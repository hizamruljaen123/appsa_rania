{
 "cells": [
  {
   "cell_type": "code",
   "id": "8acac1c3-c157-44a1-9ce6-66852c7fe382",
   "metadata": {
    "ExecuteTime": {
     "end_time": "2024-07-02T15:48:44.538919Z",
     "start_time": "2024-07-02T15:48:44.523056Z"
    }
   },
   "source": [
    "import numpy as np\n",
    "import pandas as pd\n",
    "\n",
    "# Data penyebaran TB berdasarkan jenis TB dan usia\n",
    "data = {\n",
    "    'Kecamatan': ['Karang Baru', 'Tamiang Hulu', 'Rantau', 'Seruway', 'Banda Mulia', 'Bendahara', 'Manyak Payed', 'Tenggulun', 'Kejuruan Muda', 'Sekerak', 'Bandar Pusaka', 'Kuala Simpang', 'Kota Kualasimpang'],\n",
    "    'TBC_Paru': [15, 10, 20, 12, 8, 14, 11, 9, 13, 7, 10, 18, 16],\n",
    "    'TBC_Ekstraparu': [3, 2, 4, 3, 2, 3, 2, 2, 3, 2, 2, 4, 3],\n",
    "    'TBC_Milier': [2, 1, 3, 2, 1, 2, 1, 1, 2, 1, 1, 3, 2],\n",
    "    'TBC_Meningitis': [1, 1, 2, 2, 1, 2, 1, 1, 2, 1, 1, 2, 2],\n",
    "    'TBC_Kelenjar': [4, 3, 5, 4, 2, 4, 3, 3, 4, 2, 3, 5, 4],\n",
    "    'TBC_Usus': [2, 1, 3, 2, 1, 2, 1, 1, 2, 1, 1, 3, 2],\n",
    "    'TBC_Tulang': [1, 1, 2, 1, 1, 1, 1, 1, 1, 1, 1, 2, 1],\n",
    "    'TBC_Kulit': [0, 1, 1, 1, 0, 1, 0, 0, 1, 0, 0, 1, 1],\n",
    "    'Jumlah': [28, 20, 40, 27, 16, 29, 20, 18, 28, 15, 19, 38, 31]\n",
    "}\n",
    "\n",
    "# Convert data to DataFrame\n",
    "df = pd.DataFrame(data)\n",
    "print(\"Data telah disiapkan:\")\n",
    "df\n"
   ],
   "outputs": [
    {
     "name": "stdout",
     "output_type": "stream",
     "text": [
      "Data telah disiapkan:\n"
     ]
    },
    {
     "data": {
      "text/plain": [
       "            Kecamatan  TBC_Paru  TBC_Ekstraparu  TBC_Milier  TBC_Meningitis  \\\n",
       "0         Karang Baru        15               3           2               1   \n",
       "1        Tamiang Hulu        10               2           1               1   \n",
       "2              Rantau        20               4           3               2   \n",
       "3             Seruway        12               3           2               2   \n",
       "4         Banda Mulia         8               2           1               1   \n",
       "5           Bendahara        14               3           2               2   \n",
       "6        Manyak Payed        11               2           1               1   \n",
       "7           Tenggulun         9               2           1               1   \n",
       "8       Kejuruan Muda        13               3           2               2   \n",
       "9             Sekerak         7               2           1               1   \n",
       "10      Bandar Pusaka        10               2           1               1   \n",
       "11      Kuala Simpang        18               4           3               2   \n",
       "12  Kota Kualasimpang        16               3           2               2   \n",
       "\n",
       "    TBC_Kelenjar  TBC_Usus  TBC_Tulang  TBC_Kulit  Jumlah  \n",
       "0              4         2           1          0      28  \n",
       "1              3         1           1          1      20  \n",
       "2              5         3           2          1      40  \n",
       "3              4         2           1          1      27  \n",
       "4              2         1           1          0      16  \n",
       "5              4         2           1          1      29  \n",
       "6              3         1           1          0      20  \n",
       "7              3         1           1          0      18  \n",
       "8              4         2           1          1      28  \n",
       "9              2         1           1          0      15  \n",
       "10             3         1           1          0      19  \n",
       "11             5         3           2          1      38  \n",
       "12             4         2           1          1      31  "
      ],
      "text/html": [
       "<div>\n",
       "<style scoped>\n",
       "    .dataframe tbody tr th:only-of-type {\n",
       "        vertical-align: middle;\n",
       "    }\n",
       "\n",
       "    .dataframe tbody tr th {\n",
       "        vertical-align: top;\n",
       "    }\n",
       "\n",
       "    .dataframe thead th {\n",
       "        text-align: right;\n",
       "    }\n",
       "</style>\n",
       "<table border=\"1\" class=\"dataframe\">\n",
       "  <thead>\n",
       "    <tr style=\"text-align: right;\">\n",
       "      <th></th>\n",
       "      <th>Kecamatan</th>\n",
       "      <th>TBC_Paru</th>\n",
       "      <th>TBC_Ekstraparu</th>\n",
       "      <th>TBC_Milier</th>\n",
       "      <th>TBC_Meningitis</th>\n",
       "      <th>TBC_Kelenjar</th>\n",
       "      <th>TBC_Usus</th>\n",
       "      <th>TBC_Tulang</th>\n",
       "      <th>TBC_Kulit</th>\n",
       "      <th>Jumlah</th>\n",
       "    </tr>\n",
       "  </thead>\n",
       "  <tbody>\n",
       "    <tr>\n",
       "      <th>0</th>\n",
       "      <td>Karang Baru</td>\n",
       "      <td>15</td>\n",
       "      <td>3</td>\n",
       "      <td>2</td>\n",
       "      <td>1</td>\n",
       "      <td>4</td>\n",
       "      <td>2</td>\n",
       "      <td>1</td>\n",
       "      <td>0</td>\n",
       "      <td>28</td>\n",
       "    </tr>\n",
       "    <tr>\n",
       "      <th>1</th>\n",
       "      <td>Tamiang Hulu</td>\n",
       "      <td>10</td>\n",
       "      <td>2</td>\n",
       "      <td>1</td>\n",
       "      <td>1</td>\n",
       "      <td>3</td>\n",
       "      <td>1</td>\n",
       "      <td>1</td>\n",
       "      <td>1</td>\n",
       "      <td>20</td>\n",
       "    </tr>\n",
       "    <tr>\n",
       "      <th>2</th>\n",
       "      <td>Rantau</td>\n",
       "      <td>20</td>\n",
       "      <td>4</td>\n",
       "      <td>3</td>\n",
       "      <td>2</td>\n",
       "      <td>5</td>\n",
       "      <td>3</td>\n",
       "      <td>2</td>\n",
       "      <td>1</td>\n",
       "      <td>40</td>\n",
       "    </tr>\n",
       "    <tr>\n",
       "      <th>3</th>\n",
       "      <td>Seruway</td>\n",
       "      <td>12</td>\n",
       "      <td>3</td>\n",
       "      <td>2</td>\n",
       "      <td>2</td>\n",
       "      <td>4</td>\n",
       "      <td>2</td>\n",
       "      <td>1</td>\n",
       "      <td>1</td>\n",
       "      <td>27</td>\n",
       "    </tr>\n",
       "    <tr>\n",
       "      <th>4</th>\n",
       "      <td>Banda Mulia</td>\n",
       "      <td>8</td>\n",
       "      <td>2</td>\n",
       "      <td>1</td>\n",
       "      <td>1</td>\n",
       "      <td>2</td>\n",
       "      <td>1</td>\n",
       "      <td>1</td>\n",
       "      <td>0</td>\n",
       "      <td>16</td>\n",
       "    </tr>\n",
       "    <tr>\n",
       "      <th>5</th>\n",
       "      <td>Bendahara</td>\n",
       "      <td>14</td>\n",
       "      <td>3</td>\n",
       "      <td>2</td>\n",
       "      <td>2</td>\n",
       "      <td>4</td>\n",
       "      <td>2</td>\n",
       "      <td>1</td>\n",
       "      <td>1</td>\n",
       "      <td>29</td>\n",
       "    </tr>\n",
       "    <tr>\n",
       "      <th>6</th>\n",
       "      <td>Manyak Payed</td>\n",
       "      <td>11</td>\n",
       "      <td>2</td>\n",
       "      <td>1</td>\n",
       "      <td>1</td>\n",
       "      <td>3</td>\n",
       "      <td>1</td>\n",
       "      <td>1</td>\n",
       "      <td>0</td>\n",
       "      <td>20</td>\n",
       "    </tr>\n",
       "    <tr>\n",
       "      <th>7</th>\n",
       "      <td>Tenggulun</td>\n",
       "      <td>9</td>\n",
       "      <td>2</td>\n",
       "      <td>1</td>\n",
       "      <td>1</td>\n",
       "      <td>3</td>\n",
       "      <td>1</td>\n",
       "      <td>1</td>\n",
       "      <td>0</td>\n",
       "      <td>18</td>\n",
       "    </tr>\n",
       "    <tr>\n",
       "      <th>8</th>\n",
       "      <td>Kejuruan Muda</td>\n",
       "      <td>13</td>\n",
       "      <td>3</td>\n",
       "      <td>2</td>\n",
       "      <td>2</td>\n",
       "      <td>4</td>\n",
       "      <td>2</td>\n",
       "      <td>1</td>\n",
       "      <td>1</td>\n",
       "      <td>28</td>\n",
       "    </tr>\n",
       "    <tr>\n",
       "      <th>9</th>\n",
       "      <td>Sekerak</td>\n",
       "      <td>7</td>\n",
       "      <td>2</td>\n",
       "      <td>1</td>\n",
       "      <td>1</td>\n",
       "      <td>2</td>\n",
       "      <td>1</td>\n",
       "      <td>1</td>\n",
       "      <td>0</td>\n",
       "      <td>15</td>\n",
       "    </tr>\n",
       "    <tr>\n",
       "      <th>10</th>\n",
       "      <td>Bandar Pusaka</td>\n",
       "      <td>10</td>\n",
       "      <td>2</td>\n",
       "      <td>1</td>\n",
       "      <td>1</td>\n",
       "      <td>3</td>\n",
       "      <td>1</td>\n",
       "      <td>1</td>\n",
       "      <td>0</td>\n",
       "      <td>19</td>\n",
       "    </tr>\n",
       "    <tr>\n",
       "      <th>11</th>\n",
       "      <td>Kuala Simpang</td>\n",
       "      <td>18</td>\n",
       "      <td>4</td>\n",
       "      <td>3</td>\n",
       "      <td>2</td>\n",
       "      <td>5</td>\n",
       "      <td>3</td>\n",
       "      <td>2</td>\n",
       "      <td>1</td>\n",
       "      <td>38</td>\n",
       "    </tr>\n",
       "    <tr>\n",
       "      <th>12</th>\n",
       "      <td>Kota Kualasimpang</td>\n",
       "      <td>16</td>\n",
       "      <td>3</td>\n",
       "      <td>2</td>\n",
       "      <td>2</td>\n",
       "      <td>4</td>\n",
       "      <td>2</td>\n",
       "      <td>1</td>\n",
       "      <td>1</td>\n",
       "      <td>31</td>\n",
       "    </tr>\n",
       "  </tbody>\n",
       "</table>\n",
       "</div>"
      ]
     },
     "execution_count": 1,
     "metadata": {},
     "output_type": "execute_result"
    }
   ],
   "execution_count": 1
  },
  {
   "cell_type": "code",
   "id": "d9c007d3-1c74-48c6-8a1a-89d57ad34b6f",
   "metadata": {
    "ExecuteTime": {
     "end_time": "2024-07-02T15:50:38.007218Z",
     "start_time": "2024-07-02T15:50:37.999815Z"
    }
   },
   "source": [
    "# Extract feature data for clustering\n",
    "X = df[['TBC_Paru', 'TBC_Ekstraparu', 'TBC_Milier', 'TBC_Meningitis', 'TBC_Kelenjar', 'TBC_Usus', 'TBC_Tulang', 'TBC_Kulit']]\n",
    "print(\"Fitur yang diekstraksi:\")\n",
    "X\n"
   ],
   "outputs": [
    {
     "name": "stdout",
     "output_type": "stream",
     "text": [
      "Fitur yang diekstraksi:\n"
     ]
    },
    {
     "data": {
      "text/plain": [
       "    TBC_Paru  TBC_Ekstraparu  TBC_Milier  TBC_Meningitis  TBC_Kelenjar  \\\n",
       "0         15               3           2               1             4   \n",
       "1         10               2           1               1             3   \n",
       "2         20               4           3               2             5   \n",
       "3         12               3           2               2             4   \n",
       "4          8               2           1               1             2   \n",
       "5         14               3           2               2             4   \n",
       "6         11               2           1               1             3   \n",
       "7          9               2           1               1             3   \n",
       "8         13               3           2               2             4   \n",
       "9          7               2           1               1             2   \n",
       "10        10               2           1               1             3   \n",
       "11        18               4           3               2             5   \n",
       "12        16               3           2               2             4   \n",
       "\n",
       "    TBC_Usus  TBC_Tulang  TBC_Kulit  \n",
       "0          2           1          0  \n",
       "1          1           1          1  \n",
       "2          3           2          1  \n",
       "3          2           1          1  \n",
       "4          1           1          0  \n",
       "5          2           1          1  \n",
       "6          1           1          0  \n",
       "7          1           1          0  \n",
       "8          2           1          1  \n",
       "9          1           1          0  \n",
       "10         1           1          0  \n",
       "11         3           2          1  \n",
       "12         2           1          1  "
      ],
      "text/html": [
       "<div>\n",
       "<style scoped>\n",
       "    .dataframe tbody tr th:only-of-type {\n",
       "        vertical-align: middle;\n",
       "    }\n",
       "\n",
       "    .dataframe tbody tr th {\n",
       "        vertical-align: top;\n",
       "    }\n",
       "\n",
       "    .dataframe thead th {\n",
       "        text-align: right;\n",
       "    }\n",
       "</style>\n",
       "<table border=\"1\" class=\"dataframe\">\n",
       "  <thead>\n",
       "    <tr style=\"text-align: right;\">\n",
       "      <th></th>\n",
       "      <th>TBC_Paru</th>\n",
       "      <th>TBC_Ekstraparu</th>\n",
       "      <th>TBC_Milier</th>\n",
       "      <th>TBC_Meningitis</th>\n",
       "      <th>TBC_Kelenjar</th>\n",
       "      <th>TBC_Usus</th>\n",
       "      <th>TBC_Tulang</th>\n",
       "      <th>TBC_Kulit</th>\n",
       "    </tr>\n",
       "  </thead>\n",
       "  <tbody>\n",
       "    <tr>\n",
       "      <th>0</th>\n",
       "      <td>15</td>\n",
       "      <td>3</td>\n",
       "      <td>2</td>\n",
       "      <td>1</td>\n",
       "      <td>4</td>\n",
       "      <td>2</td>\n",
       "      <td>1</td>\n",
       "      <td>0</td>\n",
       "    </tr>\n",
       "    <tr>\n",
       "      <th>1</th>\n",
       "      <td>10</td>\n",
       "      <td>2</td>\n",
       "      <td>1</td>\n",
       "      <td>1</td>\n",
       "      <td>3</td>\n",
       "      <td>1</td>\n",
       "      <td>1</td>\n",
       "      <td>1</td>\n",
       "    </tr>\n",
       "    <tr>\n",
       "      <th>2</th>\n",
       "      <td>20</td>\n",
       "      <td>4</td>\n",
       "      <td>3</td>\n",
       "      <td>2</td>\n",
       "      <td>5</td>\n",
       "      <td>3</td>\n",
       "      <td>2</td>\n",
       "      <td>1</td>\n",
       "    </tr>\n",
       "    <tr>\n",
       "      <th>3</th>\n",
       "      <td>12</td>\n",
       "      <td>3</td>\n",
       "      <td>2</td>\n",
       "      <td>2</td>\n",
       "      <td>4</td>\n",
       "      <td>2</td>\n",
       "      <td>1</td>\n",
       "      <td>1</td>\n",
       "    </tr>\n",
       "    <tr>\n",
       "      <th>4</th>\n",
       "      <td>8</td>\n",
       "      <td>2</td>\n",
       "      <td>1</td>\n",
       "      <td>1</td>\n",
       "      <td>2</td>\n",
       "      <td>1</td>\n",
       "      <td>1</td>\n",
       "      <td>0</td>\n",
       "    </tr>\n",
       "    <tr>\n",
       "      <th>5</th>\n",
       "      <td>14</td>\n",
       "      <td>3</td>\n",
       "      <td>2</td>\n",
       "      <td>2</td>\n",
       "      <td>4</td>\n",
       "      <td>2</td>\n",
       "      <td>1</td>\n",
       "      <td>1</td>\n",
       "    </tr>\n",
       "    <tr>\n",
       "      <th>6</th>\n",
       "      <td>11</td>\n",
       "      <td>2</td>\n",
       "      <td>1</td>\n",
       "      <td>1</td>\n",
       "      <td>3</td>\n",
       "      <td>1</td>\n",
       "      <td>1</td>\n",
       "      <td>0</td>\n",
       "    </tr>\n",
       "    <tr>\n",
       "      <th>7</th>\n",
       "      <td>9</td>\n",
       "      <td>2</td>\n",
       "      <td>1</td>\n",
       "      <td>1</td>\n",
       "      <td>3</td>\n",
       "      <td>1</td>\n",
       "      <td>1</td>\n",
       "      <td>0</td>\n",
       "    </tr>\n",
       "    <tr>\n",
       "      <th>8</th>\n",
       "      <td>13</td>\n",
       "      <td>3</td>\n",
       "      <td>2</td>\n",
       "      <td>2</td>\n",
       "      <td>4</td>\n",
       "      <td>2</td>\n",
       "      <td>1</td>\n",
       "      <td>1</td>\n",
       "    </tr>\n",
       "    <tr>\n",
       "      <th>9</th>\n",
       "      <td>7</td>\n",
       "      <td>2</td>\n",
       "      <td>1</td>\n",
       "      <td>1</td>\n",
       "      <td>2</td>\n",
       "      <td>1</td>\n",
       "      <td>1</td>\n",
       "      <td>0</td>\n",
       "    </tr>\n",
       "    <tr>\n",
       "      <th>10</th>\n",
       "      <td>10</td>\n",
       "      <td>2</td>\n",
       "      <td>1</td>\n",
       "      <td>1</td>\n",
       "      <td>3</td>\n",
       "      <td>1</td>\n",
       "      <td>1</td>\n",
       "      <td>0</td>\n",
       "    </tr>\n",
       "    <tr>\n",
       "      <th>11</th>\n",
       "      <td>18</td>\n",
       "      <td>4</td>\n",
       "      <td>3</td>\n",
       "      <td>2</td>\n",
       "      <td>5</td>\n",
       "      <td>3</td>\n",
       "      <td>2</td>\n",
       "      <td>1</td>\n",
       "    </tr>\n",
       "    <tr>\n",
       "      <th>12</th>\n",
       "      <td>16</td>\n",
       "      <td>3</td>\n",
       "      <td>2</td>\n",
       "      <td>2</td>\n",
       "      <td>4</td>\n",
       "      <td>2</td>\n",
       "      <td>1</td>\n",
       "      <td>1</td>\n",
       "    </tr>\n",
       "  </tbody>\n",
       "</table>\n",
       "</div>"
      ]
     },
     "execution_count": 2,
     "metadata": {},
     "output_type": "execute_result"
    }
   ],
   "execution_count": 2
  },
  {
   "cell_type": "code",
   "id": "673c8e43-2b55-4dc2-8910-1eaa7cd140cc",
   "metadata": {
    "ExecuteTime": {
     "end_time": "2024-07-02T15:50:42.345956Z",
     "start_time": "2024-07-02T15:50:41.970600Z"
    }
   },
   "source": [
    "from sklearn_extra.cluster import KMedoids\n",
    "\n",
    "class KMedoidsLogger(KMedoids):\n",
    "    def fit(self, X, y=None):\n",
    "        # Overriding the fit method to add logging\n",
    "        X = np.asarray(X)\n",
    "        n_samples = X.shape[0]\n",
    "        medoid_indices = self._initialize_medoids(X)\n",
    "        self.medoid_indices_ = medoid_indices\n",
    "        self.labels_ = self._assign_labels(X, medoid_indices)\n",
    "        \n",
    "        iter_no = 0\n",
    "        while True:\n",
    "            iter_no += 1\n",
    "            print(f\"Iteration {iter_no}: Medoid indices - {medoid_indices}\")\n",
    "            new_medoids = self._update_medoids(X, self.labels_)\n",
    "            new_labels = self._assign_labels(X, new_medoids)\n",
    "\n",
    "            if np.all(new_medoids == medoid_indices):\n",
    "                break\n",
    "\n",
    "            medoid_indices = new_medoids\n",
    "            self.labels_ = new_labels\n",
    "\n",
    "        self.medoid_indices_ = medoid_indices\n",
    "        self.labels_ = new_labels\n",
    "        self.cluster_centers_ = X[medoid_indices]\n",
    "        print(f\"Final Medoids: {medoid_indices}\")\n",
    "        return self\n",
    "\n",
    "    def _initialize_medoids(self, X):\n",
    "        np.random.seed(self.random_state)\n",
    "        medoid_indices = np.random.choice(len(X), self.n_clusters, replace=False)\n",
    "        return medoid_indices\n",
    "\n",
    "    def _assign_labels(self, X, medoid_indices):\n",
    "        distances = np.array([np.linalg.norm(X - X[medoid_idx], axis=1) for medoid_idx in medoid_indices])\n",
    "        return np.argmin(distances, axis=0)\n",
    "\n",
    "    def _update_medoids(self, X, labels):\n",
    "        new_medoids = np.zeros(self.n_clusters, dtype=int)\n",
    "        for i in range(self.n_clusters):\n",
    "            cluster_points = X[labels == i]\n",
    "            if len(cluster_points) == 0:\n",
    "                continue\n",
    "            medoid_idx = np.argmin(np.sum(np.linalg.norm(cluster_points[:, np.newaxis] - cluster_points, axis=2), axis=1))\n",
    "            new_medoids[i] = np.where(labels == i)[0][medoid_idx]\n",
    "        return new_medoids\n"
   ],
   "outputs": [],
   "execution_count": 3
  },
  {
   "cell_type": "code",
   "id": "87512cab-d0ce-4929-bb2c-17d315171bd6",
   "metadata": {
    "ExecuteTime": {
     "end_time": "2024-07-02T15:50:47.487769Z",
     "start_time": "2024-07-02T15:50:47.475051Z"
    }
   },
   "source": [
    "# Define number of clusters\n",
    "n_clusters = 4\n",
    "\n",
    "# Apply KMedoids clustering with logging\n",
    "kmedoids_logger = KMedoidsLogger(n_clusters=n_clusters, random_state=0)\n",
    "kmedoids_logger.fit(X)\n",
    "\n",
    "# Add cluster labels to DataFrame\n",
    "df['Cluster'] = kmedoids_logger.labels_\n",
    "\n",
    "# Map cluster numbers to cluster names\n",
    "cluster_mapping = {0: 'Aman', 1: 'Waspada', 2: 'Siaga', 3: 'Awas (Bahaya)'}\n",
    "df['Cluster_Name'] = df['Cluster'].map(cluster_mapping)\n",
    "\n",
    "print(\"Data dengan label cluster:\")\n",
    "df[['Kecamatan', 'Cluster_Name']]\n"
   ],
   "outputs": [
    {
     "name": "stdout",
     "output_type": "stream",
     "text": [
      "Iteration 1: Medoid indices - [ 6 11  4 10]\n",
      "Iteration 2: Medoid indices - [ 8 11  4 10]\n",
      "Iteration 3: Medoid indices - [ 5  2  4 10]\n",
      "Final Medoids: [ 5  2  4 10]\n",
      "Data dengan label cluster:\n"
     ]
    },
    {
     "data": {
      "text/plain": [
       "            Kecamatan   Cluster_Name\n",
       "0         Karang Baru           Aman\n",
       "1        Tamiang Hulu  Awas (Bahaya)\n",
       "2              Rantau        Waspada\n",
       "3             Seruway           Aman\n",
       "4         Banda Mulia          Siaga\n",
       "5           Bendahara           Aman\n",
       "6        Manyak Payed  Awas (Bahaya)\n",
       "7           Tenggulun  Awas (Bahaya)\n",
       "8       Kejuruan Muda           Aman\n",
       "9             Sekerak          Siaga\n",
       "10      Bandar Pusaka  Awas (Bahaya)\n",
       "11      Kuala Simpang        Waspada\n",
       "12  Kota Kualasimpang           Aman"
      ],
      "text/html": [
       "<div>\n",
       "<style scoped>\n",
       "    .dataframe tbody tr th:only-of-type {\n",
       "        vertical-align: middle;\n",
       "    }\n",
       "\n",
       "    .dataframe tbody tr th {\n",
       "        vertical-align: top;\n",
       "    }\n",
       "\n",
       "    .dataframe thead th {\n",
       "        text-align: right;\n",
       "    }\n",
       "</style>\n",
       "<table border=\"1\" class=\"dataframe\">\n",
       "  <thead>\n",
       "    <tr style=\"text-align: right;\">\n",
       "      <th></th>\n",
       "      <th>Kecamatan</th>\n",
       "      <th>Cluster_Name</th>\n",
       "    </tr>\n",
       "  </thead>\n",
       "  <tbody>\n",
       "    <tr>\n",
       "      <th>0</th>\n",
       "      <td>Karang Baru</td>\n",
       "      <td>Aman</td>\n",
       "    </tr>\n",
       "    <tr>\n",
       "      <th>1</th>\n",
       "      <td>Tamiang Hulu</td>\n",
       "      <td>Awas (Bahaya)</td>\n",
       "    </tr>\n",
       "    <tr>\n",
       "      <th>2</th>\n",
       "      <td>Rantau</td>\n",
       "      <td>Waspada</td>\n",
       "    </tr>\n",
       "    <tr>\n",
       "      <th>3</th>\n",
       "      <td>Seruway</td>\n",
       "      <td>Aman</td>\n",
       "    </tr>\n",
       "    <tr>\n",
       "      <th>4</th>\n",
       "      <td>Banda Mulia</td>\n",
       "      <td>Siaga</td>\n",
       "    </tr>\n",
       "    <tr>\n",
       "      <th>5</th>\n",
       "      <td>Bendahara</td>\n",
       "      <td>Aman</td>\n",
       "    </tr>\n",
       "    <tr>\n",
       "      <th>6</th>\n",
       "      <td>Manyak Payed</td>\n",
       "      <td>Awas (Bahaya)</td>\n",
       "    </tr>\n",
       "    <tr>\n",
       "      <th>7</th>\n",
       "      <td>Tenggulun</td>\n",
       "      <td>Awas (Bahaya)</td>\n",
       "    </tr>\n",
       "    <tr>\n",
       "      <th>8</th>\n",
       "      <td>Kejuruan Muda</td>\n",
       "      <td>Aman</td>\n",
       "    </tr>\n",
       "    <tr>\n",
       "      <th>9</th>\n",
       "      <td>Sekerak</td>\n",
       "      <td>Siaga</td>\n",
       "    </tr>\n",
       "    <tr>\n",
       "      <th>10</th>\n",
       "      <td>Bandar Pusaka</td>\n",
       "      <td>Awas (Bahaya)</td>\n",
       "    </tr>\n",
       "    <tr>\n",
       "      <th>11</th>\n",
       "      <td>Kuala Simpang</td>\n",
       "      <td>Waspada</td>\n",
       "    </tr>\n",
       "    <tr>\n",
       "      <th>12</th>\n",
       "      <td>Kota Kualasimpang</td>\n",
       "      <td>Aman</td>\n",
       "    </tr>\n",
       "  </tbody>\n",
       "</table>\n",
       "</div>"
      ]
     },
     "execution_count": 4,
     "metadata": {},
     "output_type": "execute_result"
    }
   ],
   "execution_count": 4
  },
  {
   "cell_type": "code",
   "id": "12bd89c4-a048-435a-ab90-bb80c4c92bfd",
   "metadata": {
    "ExecuteTime": {
     "end_time": "2024-07-02T15:52:14.026607Z",
     "start_time": "2024-07-02T15:52:13.994452Z"
    }
   },
   "source": [
    "import plotly.express as px\n",
    "import plotly.graph_objects as go\n",
    "\n",
    "# Plot the clustering result\n",
    "fig = px.scatter(\n",
    "    df, x='TBC_Paru', y='Jumlah', color='Cluster_Name',\n",
    "    hover_data={'Kecamatan': True, 'Cluster_Name': True, 'TBC_Paru': True, 'Jumlah': True},\n",
    "    title='Clustering Penyebaran TB di Kabupaten Aceh Tamiang',\n",
    "    labels={'TBC_Paru': 'TBC Paru', 'Jumlah': 'Jumlah Kasus'}\n",
    ")\n",
    "\n",
    "# Adding total counts and cluster status to the plot\n",
    "total_kecamatan = df.shape[0]\n",
    "fig.update_layout(\n",
    "    annotations=[\n",
    "        go.layout.Annotation(\n",
    "            text=f\"Total Kecamatan: {total_kecamatan}<br>Status Clustering: {', '.join(df['Cluster_Name'].unique())}\",\n",
    "            align='left',\n",
    "            showarrow=False,\n",
    "            xref='paper',\n",
    "            yref='paper',\n",
    "            x=1,\n",
    "            y=-0.1,\n",
    "            bordercolor='black',\n",
    "            borderwidth=1\n",
    "        )\n",
    "    ]\n",
    ")\n",
    "\n",
    "# Show the plot\n",
    "fig.show()\n"
   ],
   "outputs": [
    {
     "data": {
      "application/vnd.plotly.v1+json": {
       "data": [
        {
         "customdata": [
          [
           "Karang Baru",
           "Aman"
          ],
          [
           "Seruway",
           "Aman"
          ],
          [
           "Bendahara",
           "Aman"
          ],
          [
           "Kejuruan Muda",
           "Aman"
          ],
          [
           "Kota Kualasimpang",
           "Aman"
          ]
         ],
         "hovertemplate": "Cluster_Name=%{customdata[1]}<br>TBC Paru=%{x}<br>Jumlah Kasus=%{y}<br>Kecamatan=%{customdata[0]}<extra></extra>",
         "legendgroup": "Aman",
         "marker": {
          "color": "#636efa",
          "symbol": "circle"
         },
         "mode": "markers",
         "name": "Aman",
         "orientation": "v",
         "showlegend": true,
         "x": [
          15,
          12,
          14,
          13,
          16
         ],
         "xaxis": "x",
         "y": [
          28,
          27,
          29,
          28,
          31
         ],
         "yaxis": "y",
         "type": "scatter"
        },
        {
         "customdata": [
          [
           "Tamiang Hulu",
           "Awas (Bahaya)"
          ],
          [
           "Manyak Payed",
           "Awas (Bahaya)"
          ],
          [
           "Tenggulun",
           "Awas (Bahaya)"
          ],
          [
           "Bandar Pusaka",
           "Awas (Bahaya)"
          ]
         ],
         "hovertemplate": "Cluster_Name=%{customdata[1]}<br>TBC Paru=%{x}<br>Jumlah Kasus=%{y}<br>Kecamatan=%{customdata[0]}<extra></extra>",
         "legendgroup": "Awas (Bahaya)",
         "marker": {
          "color": "#EF553B",
          "symbol": "circle"
         },
         "mode": "markers",
         "name": "Awas (Bahaya)",
         "orientation": "v",
         "showlegend": true,
         "x": [
          10,
          11,
          9,
          10
         ],
         "xaxis": "x",
         "y": [
          20,
          20,
          18,
          19
         ],
         "yaxis": "y",
         "type": "scatter"
        },
        {
         "customdata": [
          [
           "Rantau",
           "Waspada"
          ],
          [
           "Kuala Simpang",
           "Waspada"
          ]
         ],
         "hovertemplate": "Cluster_Name=%{customdata[1]}<br>TBC Paru=%{x}<br>Jumlah Kasus=%{y}<br>Kecamatan=%{customdata[0]}<extra></extra>",
         "legendgroup": "Waspada",
         "marker": {
          "color": "#00cc96",
          "symbol": "circle"
         },
         "mode": "markers",
         "name": "Waspada",
         "orientation": "v",
         "showlegend": true,
         "x": [
          20,
          18
         ],
         "xaxis": "x",
         "y": [
          40,
          38
         ],
         "yaxis": "y",
         "type": "scatter"
        },
        {
         "customdata": [
          [
           "Banda Mulia",
           "Siaga"
          ],
          [
           "Sekerak",
           "Siaga"
          ]
         ],
         "hovertemplate": "Cluster_Name=%{customdata[1]}<br>TBC Paru=%{x}<br>Jumlah Kasus=%{y}<br>Kecamatan=%{customdata[0]}<extra></extra>",
         "legendgroup": "Siaga",
         "marker": {
          "color": "#ab63fa",
          "symbol": "circle"
         },
         "mode": "markers",
         "name": "Siaga",
         "orientation": "v",
         "showlegend": true,
         "x": [
          8,
          7
         ],
         "xaxis": "x",
         "y": [
          16,
          15
         ],
         "yaxis": "y",
         "type": "scatter"
        }
       ],
       "layout": {
        "template": {
         "data": {
          "histogram2dcontour": [
           {
            "type": "histogram2dcontour",
            "colorbar": {
             "outlinewidth": 0,
             "ticks": ""
            },
            "colorscale": [
             [
              0.0,
              "#0d0887"
             ],
             [
              0.1111111111111111,
              "#46039f"
             ],
             [
              0.2222222222222222,
              "#7201a8"
             ],
             [
              0.3333333333333333,
              "#9c179e"
             ],
             [
              0.4444444444444444,
              "#bd3786"
             ],
             [
              0.5555555555555556,
              "#d8576b"
             ],
             [
              0.6666666666666666,
              "#ed7953"
             ],
             [
              0.7777777777777778,
              "#fb9f3a"
             ],
             [
              0.8888888888888888,
              "#fdca26"
             ],
             [
              1.0,
              "#f0f921"
             ]
            ]
           }
          ],
          "choropleth": [
           {
            "type": "choropleth",
            "colorbar": {
             "outlinewidth": 0,
             "ticks": ""
            }
           }
          ],
          "histogram2d": [
           {
            "type": "histogram2d",
            "colorbar": {
             "outlinewidth": 0,
             "ticks": ""
            },
            "colorscale": [
             [
              0.0,
              "#0d0887"
             ],
             [
              0.1111111111111111,
              "#46039f"
             ],
             [
              0.2222222222222222,
              "#7201a8"
             ],
             [
              0.3333333333333333,
              "#9c179e"
             ],
             [
              0.4444444444444444,
              "#bd3786"
             ],
             [
              0.5555555555555556,
              "#d8576b"
             ],
             [
              0.6666666666666666,
              "#ed7953"
             ],
             [
              0.7777777777777778,
              "#fb9f3a"
             ],
             [
              0.8888888888888888,
              "#fdca26"
             ],
             [
              1.0,
              "#f0f921"
             ]
            ]
           }
          ],
          "heatmap": [
           {
            "type": "heatmap",
            "colorbar": {
             "outlinewidth": 0,
             "ticks": ""
            },
            "colorscale": [
             [
              0.0,
              "#0d0887"
             ],
             [
              0.1111111111111111,
              "#46039f"
             ],
             [
              0.2222222222222222,
              "#7201a8"
             ],
             [
              0.3333333333333333,
              "#9c179e"
             ],
             [
              0.4444444444444444,
              "#bd3786"
             ],
             [
              0.5555555555555556,
              "#d8576b"
             ],
             [
              0.6666666666666666,
              "#ed7953"
             ],
             [
              0.7777777777777778,
              "#fb9f3a"
             ],
             [
              0.8888888888888888,
              "#fdca26"
             ],
             [
              1.0,
              "#f0f921"
             ]
            ]
           }
          ],
          "heatmapgl": [
           {
            "type": "heatmapgl",
            "colorbar": {
             "outlinewidth": 0,
             "ticks": ""
            },
            "colorscale": [
             [
              0.0,
              "#0d0887"
             ],
             [
              0.1111111111111111,
              "#46039f"
             ],
             [
              0.2222222222222222,
              "#7201a8"
             ],
             [
              0.3333333333333333,
              "#9c179e"
             ],
             [
              0.4444444444444444,
              "#bd3786"
             ],
             [
              0.5555555555555556,
              "#d8576b"
             ],
             [
              0.6666666666666666,
              "#ed7953"
             ],
             [
              0.7777777777777778,
              "#fb9f3a"
             ],
             [
              0.8888888888888888,
              "#fdca26"
             ],
             [
              1.0,
              "#f0f921"
             ]
            ]
           }
          ],
          "contourcarpet": [
           {
            "type": "contourcarpet",
            "colorbar": {
             "outlinewidth": 0,
             "ticks": ""
            }
           }
          ],
          "contour": [
           {
            "type": "contour",
            "colorbar": {
             "outlinewidth": 0,
             "ticks": ""
            },
            "colorscale": [
             [
              0.0,
              "#0d0887"
             ],
             [
              0.1111111111111111,
              "#46039f"
             ],
             [
              0.2222222222222222,
              "#7201a8"
             ],
             [
              0.3333333333333333,
              "#9c179e"
             ],
             [
              0.4444444444444444,
              "#bd3786"
             ],
             [
              0.5555555555555556,
              "#d8576b"
             ],
             [
              0.6666666666666666,
              "#ed7953"
             ],
             [
              0.7777777777777778,
              "#fb9f3a"
             ],
             [
              0.8888888888888888,
              "#fdca26"
             ],
             [
              1.0,
              "#f0f921"
             ]
            ]
           }
          ],
          "surface": [
           {
            "type": "surface",
            "colorbar": {
             "outlinewidth": 0,
             "ticks": ""
            },
            "colorscale": [
             [
              0.0,
              "#0d0887"
             ],
             [
              0.1111111111111111,
              "#46039f"
             ],
             [
              0.2222222222222222,
              "#7201a8"
             ],
             [
              0.3333333333333333,
              "#9c179e"
             ],
             [
              0.4444444444444444,
              "#bd3786"
             ],
             [
              0.5555555555555556,
              "#d8576b"
             ],
             [
              0.6666666666666666,
              "#ed7953"
             ],
             [
              0.7777777777777778,
              "#fb9f3a"
             ],
             [
              0.8888888888888888,
              "#fdca26"
             ],
             [
              1.0,
              "#f0f921"
             ]
            ]
           }
          ],
          "mesh3d": [
           {
            "type": "mesh3d",
            "colorbar": {
             "outlinewidth": 0,
             "ticks": ""
            }
           }
          ],
          "scatter": [
           {
            "marker": {
             "line": {
              "color": "#283442"
             }
            },
            "type": "scatter"
           }
          ],
          "parcoords": [
           {
            "type": "parcoords",
            "line": {
             "colorbar": {
              "outlinewidth": 0,
              "ticks": ""
             }
            }
           }
          ],
          "scatterpolargl": [
           {
            "type": "scatterpolargl",
            "marker": {
             "colorbar": {
              "outlinewidth": 0,
              "ticks": ""
             }
            }
           }
          ],
          "bar": [
           {
            "error_x": {
             "color": "#f2f5fa"
            },
            "error_y": {
             "color": "#f2f5fa"
            },
            "marker": {
             "line": {
              "color": "rgb(17,17,17)",
              "width": 0.5
             },
             "pattern": {
              "fillmode": "overlay",
              "size": 10,
              "solidity": 0.2
             }
            },
            "type": "bar"
           }
          ],
          "scattergeo": [
           {
            "type": "scattergeo",
            "marker": {
             "colorbar": {
              "outlinewidth": 0,
              "ticks": ""
             }
            }
           }
          ],
          "scatterpolar": [
           {
            "type": "scatterpolar",
            "marker": {
             "colorbar": {
              "outlinewidth": 0,
              "ticks": ""
             }
            }
           }
          ],
          "histogram": [
           {
            "marker": {
             "pattern": {
              "fillmode": "overlay",
              "size": 10,
              "solidity": 0.2
             }
            },
            "type": "histogram"
           }
          ],
          "scattergl": [
           {
            "marker": {
             "line": {
              "color": "#283442"
             }
            },
            "type": "scattergl"
           }
          ],
          "scatter3d": [
           {
            "type": "scatter3d",
            "line": {
             "colorbar": {
              "outlinewidth": 0,
              "ticks": ""
             }
            },
            "marker": {
             "colorbar": {
              "outlinewidth": 0,
              "ticks": ""
             }
            }
           }
          ],
          "scattermapbox": [
           {
            "type": "scattermapbox",
            "marker": {
             "colorbar": {
              "outlinewidth": 0,
              "ticks": ""
             }
            }
           }
          ],
          "scatterternary": [
           {
            "type": "scatterternary",
            "marker": {
             "colorbar": {
              "outlinewidth": 0,
              "ticks": ""
             }
            }
           }
          ],
          "scattercarpet": [
           {
            "type": "scattercarpet",
            "marker": {
             "colorbar": {
              "outlinewidth": 0,
              "ticks": ""
             }
            }
           }
          ],
          "carpet": [
           {
            "aaxis": {
             "endlinecolor": "#A2B1C6",
             "gridcolor": "#506784",
             "linecolor": "#506784",
             "minorgridcolor": "#506784",
             "startlinecolor": "#A2B1C6"
            },
            "baxis": {
             "endlinecolor": "#A2B1C6",
             "gridcolor": "#506784",
             "linecolor": "#506784",
             "minorgridcolor": "#506784",
             "startlinecolor": "#A2B1C6"
            },
            "type": "carpet"
           }
          ],
          "table": [
           {
            "cells": {
             "fill": {
              "color": "#506784"
             },
             "line": {
              "color": "rgb(17,17,17)"
             }
            },
            "header": {
             "fill": {
              "color": "#2a3f5f"
             },
             "line": {
              "color": "rgb(17,17,17)"
             }
            },
            "type": "table"
           }
          ],
          "barpolar": [
           {
            "marker": {
             "line": {
              "color": "rgb(17,17,17)",
              "width": 0.5
             },
             "pattern": {
              "fillmode": "overlay",
              "size": 10,
              "solidity": 0.2
             }
            },
            "type": "barpolar"
           }
          ],
          "pie": [
           {
            "automargin": true,
            "type": "pie"
           }
          ]
         },
         "layout": {
          "autotypenumbers": "strict",
          "colorway": [
           "#636efa",
           "#EF553B",
           "#00cc96",
           "#ab63fa",
           "#FFA15A",
           "#19d3f3",
           "#FF6692",
           "#B6E880",
           "#FF97FF",
           "#FECB52"
          ],
          "font": {
           "color": "#f2f5fa"
          },
          "hovermode": "closest",
          "hoverlabel": {
           "align": "left"
          },
          "paper_bgcolor": "rgb(17,17,17)",
          "plot_bgcolor": "rgb(17,17,17)",
          "polar": {
           "bgcolor": "rgb(17,17,17)",
           "angularaxis": {
            "gridcolor": "#506784",
            "linecolor": "#506784",
            "ticks": ""
           },
           "radialaxis": {
            "gridcolor": "#506784",
            "linecolor": "#506784",
            "ticks": ""
           }
          },
          "ternary": {
           "bgcolor": "rgb(17,17,17)",
           "aaxis": {
            "gridcolor": "#506784",
            "linecolor": "#506784",
            "ticks": ""
           },
           "baxis": {
            "gridcolor": "#506784",
            "linecolor": "#506784",
            "ticks": ""
           },
           "caxis": {
            "gridcolor": "#506784",
            "linecolor": "#506784",
            "ticks": ""
           }
          },
          "coloraxis": {
           "colorbar": {
            "outlinewidth": 0,
            "ticks": ""
           }
          },
          "colorscale": {
           "sequential": [
            [
             0.0,
             "#0d0887"
            ],
            [
             0.1111111111111111,
             "#46039f"
            ],
            [
             0.2222222222222222,
             "#7201a8"
            ],
            [
             0.3333333333333333,
             "#9c179e"
            ],
            [
             0.4444444444444444,
             "#bd3786"
            ],
            [
             0.5555555555555556,
             "#d8576b"
            ],
            [
             0.6666666666666666,
             "#ed7953"
            ],
            [
             0.7777777777777778,
             "#fb9f3a"
            ],
            [
             0.8888888888888888,
             "#fdca26"
            ],
            [
             1.0,
             "#f0f921"
            ]
           ],
           "sequentialminus": [
            [
             0.0,
             "#0d0887"
            ],
            [
             0.1111111111111111,
             "#46039f"
            ],
            [
             0.2222222222222222,
             "#7201a8"
            ],
            [
             0.3333333333333333,
             "#9c179e"
            ],
            [
             0.4444444444444444,
             "#bd3786"
            ],
            [
             0.5555555555555556,
             "#d8576b"
            ],
            [
             0.6666666666666666,
             "#ed7953"
            ],
            [
             0.7777777777777778,
             "#fb9f3a"
            ],
            [
             0.8888888888888888,
             "#fdca26"
            ],
            [
             1.0,
             "#f0f921"
            ]
           ],
           "diverging": [
            [
             0,
             "#8e0152"
            ],
            [
             0.1,
             "#c51b7d"
            ],
            [
             0.2,
             "#de77ae"
            ],
            [
             0.3,
             "#f1b6da"
            ],
            [
             0.4,
             "#fde0ef"
            ],
            [
             0.5,
             "#f7f7f7"
            ],
            [
             0.6,
             "#e6f5d0"
            ],
            [
             0.7,
             "#b8e186"
            ],
            [
             0.8,
             "#7fbc41"
            ],
            [
             0.9,
             "#4d9221"
            ],
            [
             1,
             "#276419"
            ]
           ]
          },
          "xaxis": {
           "gridcolor": "#283442",
           "linecolor": "#506784",
           "ticks": "",
           "title": {
            "standoff": 15
           },
           "zerolinecolor": "#283442",
           "automargin": true,
           "zerolinewidth": 2
          },
          "yaxis": {
           "gridcolor": "#283442",
           "linecolor": "#506784",
           "ticks": "",
           "title": {
            "standoff": 15
           },
           "zerolinecolor": "#283442",
           "automargin": true,
           "zerolinewidth": 2
          },
          "scene": {
           "xaxis": {
            "backgroundcolor": "rgb(17,17,17)",
            "gridcolor": "#506784",
            "linecolor": "#506784",
            "showbackground": true,
            "ticks": "",
            "zerolinecolor": "#C8D4E3",
            "gridwidth": 2
           },
           "yaxis": {
            "backgroundcolor": "rgb(17,17,17)",
            "gridcolor": "#506784",
            "linecolor": "#506784",
            "showbackground": true,
            "ticks": "",
            "zerolinecolor": "#C8D4E3",
            "gridwidth": 2
           },
           "zaxis": {
            "backgroundcolor": "rgb(17,17,17)",
            "gridcolor": "#506784",
            "linecolor": "#506784",
            "showbackground": true,
            "ticks": "",
            "zerolinecolor": "#C8D4E3",
            "gridwidth": 2
           }
          },
          "shapedefaults": {
           "line": {
            "color": "#f2f5fa"
           }
          },
          "annotationdefaults": {
           "arrowcolor": "#f2f5fa",
           "arrowhead": 0,
           "arrowwidth": 1
          },
          "geo": {
           "bgcolor": "rgb(17,17,17)",
           "landcolor": "rgb(17,17,17)",
           "subunitcolor": "#506784",
           "showland": true,
           "showlakes": true,
           "lakecolor": "rgb(17,17,17)"
          },
          "title": {
           "x": 0.05
          },
          "updatemenudefaults": {
           "bgcolor": "#506784",
           "borderwidth": 0
          },
          "sliderdefaults": {
           "bgcolor": "#C8D4E3",
           "borderwidth": 1,
           "bordercolor": "rgb(17,17,17)",
           "tickwidth": 0
          },
          "mapbox": {
           "style": "dark"
          }
         }
        },
        "xaxis": {
         "anchor": "y",
         "domain": [
          0.0,
          1.0
         ],
         "title": {
          "text": "TBC Paru"
         }
        },
        "yaxis": {
         "anchor": "x",
         "domain": [
          0.0,
          1.0
         ],
         "title": {
          "text": "Jumlah Kasus"
         }
        },
        "legend": {
         "title": {
          "text": "Cluster_Name"
         },
         "tracegroupgap": 0
        },
        "title": {
         "text": "Clustering Penyebaran TB di Kabupaten Aceh Tamiang"
        },
        "annotations": [
         {
          "align": "left",
          "bordercolor": "black",
          "borderwidth": 1,
          "showarrow": false,
          "text": "Total Kecamatan: 13<br>Status Clustering: Aman, Awas (Bahaya), Waspada, Siaga",
          "x": 1,
          "xref": "paper",
          "y": -0.1,
          "yref": "paper"
         }
        ]
       },
       "config": {
        "plotlyServerURL": "https://plot.ly"
       }
      },
      "text/html": [
       "<div>                            <div id=\"b060711c-838b-4383-9bab-8074e9f63bd0\" class=\"plotly-graph-div\" style=\"height:525px; width:100%;\"></div>            <script type=\"text/javascript\">                require([\"plotly\"], function(Plotly) {                    window.PLOTLYENV=window.PLOTLYENV || {};                                    if (document.getElementById(\"b060711c-838b-4383-9bab-8074e9f63bd0\")) {                    Plotly.newPlot(                        \"b060711c-838b-4383-9bab-8074e9f63bd0\",                        [{\"customdata\":[[\"Karang Baru\",\"Aman\"],[\"Seruway\",\"Aman\"],[\"Bendahara\",\"Aman\"],[\"Kejuruan Muda\",\"Aman\"],[\"Kota Kualasimpang\",\"Aman\"]],\"hovertemplate\":\"Cluster_Name=%{customdata[1]}<br>TBC Paru=%{x}<br>Jumlah Kasus=%{y}<br>Kecamatan=%{customdata[0]}<extra></extra>\",\"legendgroup\":\"Aman\",\"marker\":{\"color\":\"#636efa\",\"symbol\":\"circle\"},\"mode\":\"markers\",\"name\":\"Aman\",\"orientation\":\"v\",\"showlegend\":true,\"x\":[15,12,14,13,16],\"xaxis\":\"x\",\"y\":[28,27,29,28,31],\"yaxis\":\"y\",\"type\":\"scatter\"},{\"customdata\":[[\"Tamiang Hulu\",\"Awas (Bahaya)\"],[\"Manyak Payed\",\"Awas (Bahaya)\"],[\"Tenggulun\",\"Awas (Bahaya)\"],[\"Bandar Pusaka\",\"Awas (Bahaya)\"]],\"hovertemplate\":\"Cluster_Name=%{customdata[1]}<br>TBC Paru=%{x}<br>Jumlah Kasus=%{y}<br>Kecamatan=%{customdata[0]}<extra></extra>\",\"legendgroup\":\"Awas (Bahaya)\",\"marker\":{\"color\":\"#EF553B\",\"symbol\":\"circle\"},\"mode\":\"markers\",\"name\":\"Awas (Bahaya)\",\"orientation\":\"v\",\"showlegend\":true,\"x\":[10,11,9,10],\"xaxis\":\"x\",\"y\":[20,20,18,19],\"yaxis\":\"y\",\"type\":\"scatter\"},{\"customdata\":[[\"Rantau\",\"Waspada\"],[\"Kuala Simpang\",\"Waspada\"]],\"hovertemplate\":\"Cluster_Name=%{customdata[1]}<br>TBC Paru=%{x}<br>Jumlah Kasus=%{y}<br>Kecamatan=%{customdata[0]}<extra></extra>\",\"legendgroup\":\"Waspada\",\"marker\":{\"color\":\"#00cc96\",\"symbol\":\"circle\"},\"mode\":\"markers\",\"name\":\"Waspada\",\"orientation\":\"v\",\"showlegend\":true,\"x\":[20,18],\"xaxis\":\"x\",\"y\":[40,38],\"yaxis\":\"y\",\"type\":\"scatter\"},{\"customdata\":[[\"Banda Mulia\",\"Siaga\"],[\"Sekerak\",\"Siaga\"]],\"hovertemplate\":\"Cluster_Name=%{customdata[1]}<br>TBC Paru=%{x}<br>Jumlah Kasus=%{y}<br>Kecamatan=%{customdata[0]}<extra></extra>\",\"legendgroup\":\"Siaga\",\"marker\":{\"color\":\"#ab63fa\",\"symbol\":\"circle\"},\"mode\":\"markers\",\"name\":\"Siaga\",\"orientation\":\"v\",\"showlegend\":true,\"x\":[8,7],\"xaxis\":\"x\",\"y\":[16,15],\"yaxis\":\"y\",\"type\":\"scatter\"}],                        {\"template\":{\"data\":{\"histogram2dcontour\":[{\"type\":\"histogram2dcontour\",\"colorbar\":{\"outlinewidth\":0,\"ticks\":\"\"},\"colorscale\":[[0.0,\"#0d0887\"],[0.1111111111111111,\"#46039f\"],[0.2222222222222222,\"#7201a8\"],[0.3333333333333333,\"#9c179e\"],[0.4444444444444444,\"#bd3786\"],[0.5555555555555556,\"#d8576b\"],[0.6666666666666666,\"#ed7953\"],[0.7777777777777778,\"#fb9f3a\"],[0.8888888888888888,\"#fdca26\"],[1.0,\"#f0f921\"]]}],\"choropleth\":[{\"type\":\"choropleth\",\"colorbar\":{\"outlinewidth\":0,\"ticks\":\"\"}}],\"histogram2d\":[{\"type\":\"histogram2d\",\"colorbar\":{\"outlinewidth\":0,\"ticks\":\"\"},\"colorscale\":[[0.0,\"#0d0887\"],[0.1111111111111111,\"#46039f\"],[0.2222222222222222,\"#7201a8\"],[0.3333333333333333,\"#9c179e\"],[0.4444444444444444,\"#bd3786\"],[0.5555555555555556,\"#d8576b\"],[0.6666666666666666,\"#ed7953\"],[0.7777777777777778,\"#fb9f3a\"],[0.8888888888888888,\"#fdca26\"],[1.0,\"#f0f921\"]]}],\"heatmap\":[{\"type\":\"heatmap\",\"colorbar\":{\"outlinewidth\":0,\"ticks\":\"\"},\"colorscale\":[[0.0,\"#0d0887\"],[0.1111111111111111,\"#46039f\"],[0.2222222222222222,\"#7201a8\"],[0.3333333333333333,\"#9c179e\"],[0.4444444444444444,\"#bd3786\"],[0.5555555555555556,\"#d8576b\"],[0.6666666666666666,\"#ed7953\"],[0.7777777777777778,\"#fb9f3a\"],[0.8888888888888888,\"#fdca26\"],[1.0,\"#f0f921\"]]}],\"heatmapgl\":[{\"type\":\"heatmapgl\",\"colorbar\":{\"outlinewidth\":0,\"ticks\":\"\"},\"colorscale\":[[0.0,\"#0d0887\"],[0.1111111111111111,\"#46039f\"],[0.2222222222222222,\"#7201a8\"],[0.3333333333333333,\"#9c179e\"],[0.4444444444444444,\"#bd3786\"],[0.5555555555555556,\"#d8576b\"],[0.6666666666666666,\"#ed7953\"],[0.7777777777777778,\"#fb9f3a\"],[0.8888888888888888,\"#fdca26\"],[1.0,\"#f0f921\"]]}],\"contourcarpet\":[{\"type\":\"contourcarpet\",\"colorbar\":{\"outlinewidth\":0,\"ticks\":\"\"}}],\"contour\":[{\"type\":\"contour\",\"colorbar\":{\"outlinewidth\":0,\"ticks\":\"\"},\"colorscale\":[[0.0,\"#0d0887\"],[0.1111111111111111,\"#46039f\"],[0.2222222222222222,\"#7201a8\"],[0.3333333333333333,\"#9c179e\"],[0.4444444444444444,\"#bd3786\"],[0.5555555555555556,\"#d8576b\"],[0.6666666666666666,\"#ed7953\"],[0.7777777777777778,\"#fb9f3a\"],[0.8888888888888888,\"#fdca26\"],[1.0,\"#f0f921\"]]}],\"surface\":[{\"type\":\"surface\",\"colorbar\":{\"outlinewidth\":0,\"ticks\":\"\"},\"colorscale\":[[0.0,\"#0d0887\"],[0.1111111111111111,\"#46039f\"],[0.2222222222222222,\"#7201a8\"],[0.3333333333333333,\"#9c179e\"],[0.4444444444444444,\"#bd3786\"],[0.5555555555555556,\"#d8576b\"],[0.6666666666666666,\"#ed7953\"],[0.7777777777777778,\"#fb9f3a\"],[0.8888888888888888,\"#fdca26\"],[1.0,\"#f0f921\"]]}],\"mesh3d\":[{\"type\":\"mesh3d\",\"colorbar\":{\"outlinewidth\":0,\"ticks\":\"\"}}],\"scatter\":[{\"marker\":{\"line\":{\"color\":\"#283442\"}},\"type\":\"scatter\"}],\"parcoords\":[{\"type\":\"parcoords\",\"line\":{\"colorbar\":{\"outlinewidth\":0,\"ticks\":\"\"}}}],\"scatterpolargl\":[{\"type\":\"scatterpolargl\",\"marker\":{\"colorbar\":{\"outlinewidth\":0,\"ticks\":\"\"}}}],\"bar\":[{\"error_x\":{\"color\":\"#f2f5fa\"},\"error_y\":{\"color\":\"#f2f5fa\"},\"marker\":{\"line\":{\"color\":\"rgb(17,17,17)\",\"width\":0.5},\"pattern\":{\"fillmode\":\"overlay\",\"size\":10,\"solidity\":0.2}},\"type\":\"bar\"}],\"scattergeo\":[{\"type\":\"scattergeo\",\"marker\":{\"colorbar\":{\"outlinewidth\":0,\"ticks\":\"\"}}}],\"scatterpolar\":[{\"type\":\"scatterpolar\",\"marker\":{\"colorbar\":{\"outlinewidth\":0,\"ticks\":\"\"}}}],\"histogram\":[{\"marker\":{\"pattern\":{\"fillmode\":\"overlay\",\"size\":10,\"solidity\":0.2}},\"type\":\"histogram\"}],\"scattergl\":[{\"marker\":{\"line\":{\"color\":\"#283442\"}},\"type\":\"scattergl\"}],\"scatter3d\":[{\"type\":\"scatter3d\",\"line\":{\"colorbar\":{\"outlinewidth\":0,\"ticks\":\"\"}},\"marker\":{\"colorbar\":{\"outlinewidth\":0,\"ticks\":\"\"}}}],\"scattermapbox\":[{\"type\":\"scattermapbox\",\"marker\":{\"colorbar\":{\"outlinewidth\":0,\"ticks\":\"\"}}}],\"scatterternary\":[{\"type\":\"scatterternary\",\"marker\":{\"colorbar\":{\"outlinewidth\":0,\"ticks\":\"\"}}}],\"scattercarpet\":[{\"type\":\"scattercarpet\",\"marker\":{\"colorbar\":{\"outlinewidth\":0,\"ticks\":\"\"}}}],\"carpet\":[{\"aaxis\":{\"endlinecolor\":\"#A2B1C6\",\"gridcolor\":\"#506784\",\"linecolor\":\"#506784\",\"minorgridcolor\":\"#506784\",\"startlinecolor\":\"#A2B1C6\"},\"baxis\":{\"endlinecolor\":\"#A2B1C6\",\"gridcolor\":\"#506784\",\"linecolor\":\"#506784\",\"minorgridcolor\":\"#506784\",\"startlinecolor\":\"#A2B1C6\"},\"type\":\"carpet\"}],\"table\":[{\"cells\":{\"fill\":{\"color\":\"#506784\"},\"line\":{\"color\":\"rgb(17,17,17)\"}},\"header\":{\"fill\":{\"color\":\"#2a3f5f\"},\"line\":{\"color\":\"rgb(17,17,17)\"}},\"type\":\"table\"}],\"barpolar\":[{\"marker\":{\"line\":{\"color\":\"rgb(17,17,17)\",\"width\":0.5},\"pattern\":{\"fillmode\":\"overlay\",\"size\":10,\"solidity\":0.2}},\"type\":\"barpolar\"}],\"pie\":[{\"automargin\":true,\"type\":\"pie\"}]},\"layout\":{\"autotypenumbers\":\"strict\",\"colorway\":[\"#636efa\",\"#EF553B\",\"#00cc96\",\"#ab63fa\",\"#FFA15A\",\"#19d3f3\",\"#FF6692\",\"#B6E880\",\"#FF97FF\",\"#FECB52\"],\"font\":{\"color\":\"#f2f5fa\"},\"hovermode\":\"closest\",\"hoverlabel\":{\"align\":\"left\"},\"paper_bgcolor\":\"rgb(17,17,17)\",\"plot_bgcolor\":\"rgb(17,17,17)\",\"polar\":{\"bgcolor\":\"rgb(17,17,17)\",\"angularaxis\":{\"gridcolor\":\"#506784\",\"linecolor\":\"#506784\",\"ticks\":\"\"},\"radialaxis\":{\"gridcolor\":\"#506784\",\"linecolor\":\"#506784\",\"ticks\":\"\"}},\"ternary\":{\"bgcolor\":\"rgb(17,17,17)\",\"aaxis\":{\"gridcolor\":\"#506784\",\"linecolor\":\"#506784\",\"ticks\":\"\"},\"baxis\":{\"gridcolor\":\"#506784\",\"linecolor\":\"#506784\",\"ticks\":\"\"},\"caxis\":{\"gridcolor\":\"#506784\",\"linecolor\":\"#506784\",\"ticks\":\"\"}},\"coloraxis\":{\"colorbar\":{\"outlinewidth\":0,\"ticks\":\"\"}},\"colorscale\":{\"sequential\":[[0.0,\"#0d0887\"],[0.1111111111111111,\"#46039f\"],[0.2222222222222222,\"#7201a8\"],[0.3333333333333333,\"#9c179e\"],[0.4444444444444444,\"#bd3786\"],[0.5555555555555556,\"#d8576b\"],[0.6666666666666666,\"#ed7953\"],[0.7777777777777778,\"#fb9f3a\"],[0.8888888888888888,\"#fdca26\"],[1.0,\"#f0f921\"]],\"sequentialminus\":[[0.0,\"#0d0887\"],[0.1111111111111111,\"#46039f\"],[0.2222222222222222,\"#7201a8\"],[0.3333333333333333,\"#9c179e\"],[0.4444444444444444,\"#bd3786\"],[0.5555555555555556,\"#d8576b\"],[0.6666666666666666,\"#ed7953\"],[0.7777777777777778,\"#fb9f3a\"],[0.8888888888888888,\"#fdca26\"],[1.0,\"#f0f921\"]],\"diverging\":[[0,\"#8e0152\"],[0.1,\"#c51b7d\"],[0.2,\"#de77ae\"],[0.3,\"#f1b6da\"],[0.4,\"#fde0ef\"],[0.5,\"#f7f7f7\"],[0.6,\"#e6f5d0\"],[0.7,\"#b8e186\"],[0.8,\"#7fbc41\"],[0.9,\"#4d9221\"],[1,\"#276419\"]]},\"xaxis\":{\"gridcolor\":\"#283442\",\"linecolor\":\"#506784\",\"ticks\":\"\",\"title\":{\"standoff\":15},\"zerolinecolor\":\"#283442\",\"automargin\":true,\"zerolinewidth\":2},\"yaxis\":{\"gridcolor\":\"#283442\",\"linecolor\":\"#506784\",\"ticks\":\"\",\"title\":{\"standoff\":15},\"zerolinecolor\":\"#283442\",\"automargin\":true,\"zerolinewidth\":2},\"scene\":{\"xaxis\":{\"backgroundcolor\":\"rgb(17,17,17)\",\"gridcolor\":\"#506784\",\"linecolor\":\"#506784\",\"showbackground\":true,\"ticks\":\"\",\"zerolinecolor\":\"#C8D4E3\",\"gridwidth\":2},\"yaxis\":{\"backgroundcolor\":\"rgb(17,17,17)\",\"gridcolor\":\"#506784\",\"linecolor\":\"#506784\",\"showbackground\":true,\"ticks\":\"\",\"zerolinecolor\":\"#C8D4E3\",\"gridwidth\":2},\"zaxis\":{\"backgroundcolor\":\"rgb(17,17,17)\",\"gridcolor\":\"#506784\",\"linecolor\":\"#506784\",\"showbackground\":true,\"ticks\":\"\",\"zerolinecolor\":\"#C8D4E3\",\"gridwidth\":2}},\"shapedefaults\":{\"line\":{\"color\":\"#f2f5fa\"}},\"annotationdefaults\":{\"arrowcolor\":\"#f2f5fa\",\"arrowhead\":0,\"arrowwidth\":1},\"geo\":{\"bgcolor\":\"rgb(17,17,17)\",\"landcolor\":\"rgb(17,17,17)\",\"subunitcolor\":\"#506784\",\"showland\":true,\"showlakes\":true,\"lakecolor\":\"rgb(17,17,17)\"},\"title\":{\"x\":0.05},\"updatemenudefaults\":{\"bgcolor\":\"#506784\",\"borderwidth\":0},\"sliderdefaults\":{\"bgcolor\":\"#C8D4E3\",\"borderwidth\":1,\"bordercolor\":\"rgb(17,17,17)\",\"tickwidth\":0},\"mapbox\":{\"style\":\"dark\"}}},\"xaxis\":{\"anchor\":\"y\",\"domain\":[0.0,1.0],\"title\":{\"text\":\"TBC Paru\"}},\"yaxis\":{\"anchor\":\"x\",\"domain\":[0.0,1.0],\"title\":{\"text\":\"Jumlah Kasus\"}},\"legend\":{\"title\":{\"text\":\"Cluster_Name\"},\"tracegroupgap\":0},\"title\":{\"text\":\"Clustering Penyebaran TB di Kabupaten Aceh Tamiang\"},\"annotations\":[{\"align\":\"left\",\"bordercolor\":\"black\",\"borderwidth\":1,\"showarrow\":false,\"text\":\"Total Kecamatan: 13<br>Status Clustering: Aman, Awas (Bahaya), Waspada, Siaga\",\"x\":1,\"xref\":\"paper\",\"y\":-0.1,\"yref\":\"paper\"}]},                        {\"responsive\": true}                    ).then(function(){\n",
       "                            \n",
       "var gd = document.getElementById('b060711c-838b-4383-9bab-8074e9f63bd0');\n",
       "var x = new MutationObserver(function (mutations, observer) {{\n",
       "        var display = window.getComputedStyle(gd).display;\n",
       "        if (!display || display === 'none') {{\n",
       "            console.log([gd, 'removed!']);\n",
       "            Plotly.purge(gd);\n",
       "            observer.disconnect();\n",
       "        }}\n",
       "}});\n",
       "\n",
       "// Listen for the removal of the full notebook cells\n",
       "var notebookContainer = gd.closest('#notebook-container');\n",
       "if (notebookContainer) {{\n",
       "    x.observe(notebookContainer, {childList: true});\n",
       "}}\n",
       "\n",
       "// Listen for the clearing of the current output cell\n",
       "var outputEl = gd.closest('.output');\n",
       "if (outputEl) {{\n",
       "    x.observe(outputEl, {childList: true});\n",
       "}}\n",
       "\n",
       "                        })                };                });            </script>        </div>"
      ]
     },
     "metadata": {},
     "output_type": "display_data"
    }
   ],
   "execution_count": 8
  },
  {
   "cell_type": "code",
   "id": "6106036f-f740-4daf-a44e-b5748fa550b4",
   "metadata": {
    "ExecuteTime": {
     "end_time": "2024-07-02T15:52:17.568150Z",
     "start_time": "2024-07-02T15:52:17.557452Z"
    }
   },
   "source": [
    "# Add geographical coordinates for each Kecamatan\n",
    "coordinates = {\n",
    "    'Karang Baru': [4.1754, 98.0093],\n",
    "    'Tamiang Hulu': [4.2534, 97.8358],\n",
    "    'Rantau': [4.1422, 98.0502],\n",
    "    'Seruway': [3.9942, 98.0947],\n",
    "    'Banda Mulia': [4.0982, 98.0566],\n",
    "    'Bendahara': [4.2112, 98.0194],\n",
    "    'Manyak Payed': [4.2446, 98.1084],\n",
    "    'Tenggulun': [4.4205, 97.9111],\n",
    "    'Kejuruan Muda': [4.1006, 98.0117],\n",
    "    'Sekerak': [4.2843, 97.9771],\n",
    "    'Bandar Pusaka': [4.3958, 97.9994],\n",
    "    'Kuala Simpang': [4.1194, 97.9808],\n",
    "    'Kota Kualasimpang': [4.1228, 97.9811]\n",
    "}\n",
    "\n",
    "df['Latitude'] = df['Kecamatan'].map(lambda x: coordinates[x][0])\n",
    "df['Longitude'] = df['Kecamatan'].map(lambda x: coordinates[x][1])\n",
    "\n",
    "print(\"Data dengan koordinat geografis:\")\n",
    "df\n"
   ],
   "outputs": [
    {
     "name": "stdout",
     "output_type": "stream",
     "text": [
      "Data dengan koordinat geografis:\n"
     ]
    },
    {
     "data": {
      "text/plain": [
       "            Kecamatan  TBC_Paru  TBC_Ekstraparu  TBC_Milier  TBC_Meningitis  \\\n",
       "0         Karang Baru        15               3           2               1   \n",
       "1        Tamiang Hulu        10               2           1               1   \n",
       "2              Rantau        20               4           3               2   \n",
       "3             Seruway        12               3           2               2   \n",
       "4         Banda Mulia         8               2           1               1   \n",
       "5           Bendahara        14               3           2               2   \n",
       "6        Manyak Payed        11               2           1               1   \n",
       "7           Tenggulun         9               2           1               1   \n",
       "8       Kejuruan Muda        13               3           2               2   \n",
       "9             Sekerak         7               2           1               1   \n",
       "10      Bandar Pusaka        10               2           1               1   \n",
       "11      Kuala Simpang        18               4           3               2   \n",
       "12  Kota Kualasimpang        16               3           2               2   \n",
       "\n",
       "    TBC_Kelenjar  TBC_Usus  TBC_Tulang  TBC_Kulit  Jumlah  Cluster  \\\n",
       "0              4         2           1          0      28        0   \n",
       "1              3         1           1          1      20        3   \n",
       "2              5         3           2          1      40        1   \n",
       "3              4         2           1          1      27        0   \n",
       "4              2         1           1          0      16        2   \n",
       "5              4         2           1          1      29        0   \n",
       "6              3         1           1          0      20        3   \n",
       "7              3         1           1          0      18        3   \n",
       "8              4         2           1          1      28        0   \n",
       "9              2         1           1          0      15        2   \n",
       "10             3         1           1          0      19        3   \n",
       "11             5         3           2          1      38        1   \n",
       "12             4         2           1          1      31        0   \n",
       "\n",
       "     Cluster_Name  Latitude  Longitude  \n",
       "0            Aman    4.1754    98.0093  \n",
       "1   Awas (Bahaya)    4.2534    97.8358  \n",
       "2         Waspada    4.1422    98.0502  \n",
       "3            Aman    3.9942    98.0947  \n",
       "4           Siaga    4.0982    98.0566  \n",
       "5            Aman    4.2112    98.0194  \n",
       "6   Awas (Bahaya)    4.2446    98.1084  \n",
       "7   Awas (Bahaya)    4.4205    97.9111  \n",
       "8            Aman    4.1006    98.0117  \n",
       "9           Siaga    4.2843    97.9771  \n",
       "10  Awas (Bahaya)    4.3958    97.9994  \n",
       "11        Waspada    4.1194    97.9808  \n",
       "12           Aman    4.1228    97.9811  "
      ],
      "text/html": [
       "<div>\n",
       "<style scoped>\n",
       "    .dataframe tbody tr th:only-of-type {\n",
       "        vertical-align: middle;\n",
       "    }\n",
       "\n",
       "    .dataframe tbody tr th {\n",
       "        vertical-align: top;\n",
       "    }\n",
       "\n",
       "    .dataframe thead th {\n",
       "        text-align: right;\n",
       "    }\n",
       "</style>\n",
       "<table border=\"1\" class=\"dataframe\">\n",
       "  <thead>\n",
       "    <tr style=\"text-align: right;\">\n",
       "      <th></th>\n",
       "      <th>Kecamatan</th>\n",
       "      <th>TBC_Paru</th>\n",
       "      <th>TBC_Ekstraparu</th>\n",
       "      <th>TBC_Milier</th>\n",
       "      <th>TBC_Meningitis</th>\n",
       "      <th>TBC_Kelenjar</th>\n",
       "      <th>TBC_Usus</th>\n",
       "      <th>TBC_Tulang</th>\n",
       "      <th>TBC_Kulit</th>\n",
       "      <th>Jumlah</th>\n",
       "      <th>Cluster</th>\n",
       "      <th>Cluster_Name</th>\n",
       "      <th>Latitude</th>\n",
       "      <th>Longitude</th>\n",
       "    </tr>\n",
       "  </thead>\n",
       "  <tbody>\n",
       "    <tr>\n",
       "      <th>0</th>\n",
       "      <td>Karang Baru</td>\n",
       "      <td>15</td>\n",
       "      <td>3</td>\n",
       "      <td>2</td>\n",
       "      <td>1</td>\n",
       "      <td>4</td>\n",
       "      <td>2</td>\n",
       "      <td>1</td>\n",
       "      <td>0</td>\n",
       "      <td>28</td>\n",
       "      <td>0</td>\n",
       "      <td>Aman</td>\n",
       "      <td>4.1754</td>\n",
       "      <td>98.0093</td>\n",
       "    </tr>\n",
       "    <tr>\n",
       "      <th>1</th>\n",
       "      <td>Tamiang Hulu</td>\n",
       "      <td>10</td>\n",
       "      <td>2</td>\n",
       "      <td>1</td>\n",
       "      <td>1</td>\n",
       "      <td>3</td>\n",
       "      <td>1</td>\n",
       "      <td>1</td>\n",
       "      <td>1</td>\n",
       "      <td>20</td>\n",
       "      <td>3</td>\n",
       "      <td>Awas (Bahaya)</td>\n",
       "      <td>4.2534</td>\n",
       "      <td>97.8358</td>\n",
       "    </tr>\n",
       "    <tr>\n",
       "      <th>2</th>\n",
       "      <td>Rantau</td>\n",
       "      <td>20</td>\n",
       "      <td>4</td>\n",
       "      <td>3</td>\n",
       "      <td>2</td>\n",
       "      <td>5</td>\n",
       "      <td>3</td>\n",
       "      <td>2</td>\n",
       "      <td>1</td>\n",
       "      <td>40</td>\n",
       "      <td>1</td>\n",
       "      <td>Waspada</td>\n",
       "      <td>4.1422</td>\n",
       "      <td>98.0502</td>\n",
       "    </tr>\n",
       "    <tr>\n",
       "      <th>3</th>\n",
       "      <td>Seruway</td>\n",
       "      <td>12</td>\n",
       "      <td>3</td>\n",
       "      <td>2</td>\n",
       "      <td>2</td>\n",
       "      <td>4</td>\n",
       "      <td>2</td>\n",
       "      <td>1</td>\n",
       "      <td>1</td>\n",
       "      <td>27</td>\n",
       "      <td>0</td>\n",
       "      <td>Aman</td>\n",
       "      <td>3.9942</td>\n",
       "      <td>98.0947</td>\n",
       "    </tr>\n",
       "    <tr>\n",
       "      <th>4</th>\n",
       "      <td>Banda Mulia</td>\n",
       "      <td>8</td>\n",
       "      <td>2</td>\n",
       "      <td>1</td>\n",
       "      <td>1</td>\n",
       "      <td>2</td>\n",
       "      <td>1</td>\n",
       "      <td>1</td>\n",
       "      <td>0</td>\n",
       "      <td>16</td>\n",
       "      <td>2</td>\n",
       "      <td>Siaga</td>\n",
       "      <td>4.0982</td>\n",
       "      <td>98.0566</td>\n",
       "    </tr>\n",
       "    <tr>\n",
       "      <th>5</th>\n",
       "      <td>Bendahara</td>\n",
       "      <td>14</td>\n",
       "      <td>3</td>\n",
       "      <td>2</td>\n",
       "      <td>2</td>\n",
       "      <td>4</td>\n",
       "      <td>2</td>\n",
       "      <td>1</td>\n",
       "      <td>1</td>\n",
       "      <td>29</td>\n",
       "      <td>0</td>\n",
       "      <td>Aman</td>\n",
       "      <td>4.2112</td>\n",
       "      <td>98.0194</td>\n",
       "    </tr>\n",
       "    <tr>\n",
       "      <th>6</th>\n",
       "      <td>Manyak Payed</td>\n",
       "      <td>11</td>\n",
       "      <td>2</td>\n",
       "      <td>1</td>\n",
       "      <td>1</td>\n",
       "      <td>3</td>\n",
       "      <td>1</td>\n",
       "      <td>1</td>\n",
       "      <td>0</td>\n",
       "      <td>20</td>\n",
       "      <td>3</td>\n",
       "      <td>Awas (Bahaya)</td>\n",
       "      <td>4.2446</td>\n",
       "      <td>98.1084</td>\n",
       "    </tr>\n",
       "    <tr>\n",
       "      <th>7</th>\n",
       "      <td>Tenggulun</td>\n",
       "      <td>9</td>\n",
       "      <td>2</td>\n",
       "      <td>1</td>\n",
       "      <td>1</td>\n",
       "      <td>3</td>\n",
       "      <td>1</td>\n",
       "      <td>1</td>\n",
       "      <td>0</td>\n",
       "      <td>18</td>\n",
       "      <td>3</td>\n",
       "      <td>Awas (Bahaya)</td>\n",
       "      <td>4.4205</td>\n",
       "      <td>97.9111</td>\n",
       "    </tr>\n",
       "    <tr>\n",
       "      <th>8</th>\n",
       "      <td>Kejuruan Muda</td>\n",
       "      <td>13</td>\n",
       "      <td>3</td>\n",
       "      <td>2</td>\n",
       "      <td>2</td>\n",
       "      <td>4</td>\n",
       "      <td>2</td>\n",
       "      <td>1</td>\n",
       "      <td>1</td>\n",
       "      <td>28</td>\n",
       "      <td>0</td>\n",
       "      <td>Aman</td>\n",
       "      <td>4.1006</td>\n",
       "      <td>98.0117</td>\n",
       "    </tr>\n",
       "    <tr>\n",
       "      <th>9</th>\n",
       "      <td>Sekerak</td>\n",
       "      <td>7</td>\n",
       "      <td>2</td>\n",
       "      <td>1</td>\n",
       "      <td>1</td>\n",
       "      <td>2</td>\n",
       "      <td>1</td>\n",
       "      <td>1</td>\n",
       "      <td>0</td>\n",
       "      <td>15</td>\n",
       "      <td>2</td>\n",
       "      <td>Siaga</td>\n",
       "      <td>4.2843</td>\n",
       "      <td>97.9771</td>\n",
       "    </tr>\n",
       "    <tr>\n",
       "      <th>10</th>\n",
       "      <td>Bandar Pusaka</td>\n",
       "      <td>10</td>\n",
       "      <td>2</td>\n",
       "      <td>1</td>\n",
       "      <td>1</td>\n",
       "      <td>3</td>\n",
       "      <td>1</td>\n",
       "      <td>1</td>\n",
       "      <td>0</td>\n",
       "      <td>19</td>\n",
       "      <td>3</td>\n",
       "      <td>Awas (Bahaya)</td>\n",
       "      <td>4.3958</td>\n",
       "      <td>97.9994</td>\n",
       "    </tr>\n",
       "    <tr>\n",
       "      <th>11</th>\n",
       "      <td>Kuala Simpang</td>\n",
       "      <td>18</td>\n",
       "      <td>4</td>\n",
       "      <td>3</td>\n",
       "      <td>2</td>\n",
       "      <td>5</td>\n",
       "      <td>3</td>\n",
       "      <td>2</td>\n",
       "      <td>1</td>\n",
       "      <td>38</td>\n",
       "      <td>1</td>\n",
       "      <td>Waspada</td>\n",
       "      <td>4.1194</td>\n",
       "      <td>97.9808</td>\n",
       "    </tr>\n",
       "    <tr>\n",
       "      <th>12</th>\n",
       "      <td>Kota Kualasimpang</td>\n",
       "      <td>16</td>\n",
       "      <td>3</td>\n",
       "      <td>2</td>\n",
       "      <td>2</td>\n",
       "      <td>4</td>\n",
       "      <td>2</td>\n",
       "      <td>1</td>\n",
       "      <td>1</td>\n",
       "      <td>31</td>\n",
       "      <td>0</td>\n",
       "      <td>Aman</td>\n",
       "      <td>4.1228</td>\n",
       "      <td>97.9811</td>\n",
       "    </tr>\n",
       "  </tbody>\n",
       "</table>\n",
       "</div>"
      ]
     },
     "execution_count": 9,
     "metadata": {},
     "output_type": "execute_result"
    }
   ],
   "execution_count": 9
  },
  {
   "cell_type": "code",
   "id": "7378c867-e9cf-4d2f-a501-d7d26658cae7",
   "metadata": {
    "ExecuteTime": {
     "end_time": "2024-07-10T10:53:35.934774Z",
     "start_time": "2024-07-10T10:53:35.267022Z"
    }
   },
   "source": [
    "import folium\n",
    "\n",
    "# Create a map centered around Aceh Tamiang\n",
    "map_center = [4.1488, 98.0103]\n",
    "m = folium.Map(location=map_center, zoom_start=10)\n",
    "\n",
    "# Define colors for clusters\n",
    "cluster_colors = {\n",
    "    'Aman': 'green',\n",
    "    'Waspada': 'yellow',\n",
    "    'Siaga': 'orange',\n",
    "    'Awas (Bahaya)': 'red'\n",
    "}\n",
    "\n",
    "# Add points to the map\n",
    "for i, row in df.iterrows():\n",
    "    folium.CircleMarker(\n",
    "        location=[row['Latitude'], row['Longitude']],\n",
    "        radius=10,\n",
    "        popup=f\"Kecamatan: {row['Kecamatan']}<br>Status: {row['Cluster_Name']}\",\n",
    "        color=cluster_colors[row['Cluster_Name']],\n",
    "        fill=True,\n",
    "        fill_color=cluster_colors[row['Cluster_Name']]\n",
    "    ).add_to(m)\n",
    "\n",
    "# Display the map\n",
    "m.save('map.html')\n",
    "m\n"
   ],
   "outputs": [
    {
     "ename": "NameError",
     "evalue": "name 'df' is not defined",
     "output_type": "error",
     "traceback": [
      "\u001B[1;31m---------------------------------------------------------------------------\u001B[0m",
      "\u001B[1;31mNameError\u001B[0m                                 Traceback (most recent call last)",
      "Cell \u001B[1;32mIn[1], line 16\u001B[0m\n\u001B[0;32m      8\u001B[0m cluster_colors \u001B[38;5;241m=\u001B[39m {\n\u001B[0;32m      9\u001B[0m     \u001B[38;5;124m'\u001B[39m\u001B[38;5;124mAman\u001B[39m\u001B[38;5;124m'\u001B[39m: \u001B[38;5;124m'\u001B[39m\u001B[38;5;124mgreen\u001B[39m\u001B[38;5;124m'\u001B[39m,\n\u001B[0;32m     10\u001B[0m     \u001B[38;5;124m'\u001B[39m\u001B[38;5;124mWaspada\u001B[39m\u001B[38;5;124m'\u001B[39m: \u001B[38;5;124m'\u001B[39m\u001B[38;5;124myellow\u001B[39m\u001B[38;5;124m'\u001B[39m,\n\u001B[0;32m     11\u001B[0m     \u001B[38;5;124m'\u001B[39m\u001B[38;5;124mSiaga\u001B[39m\u001B[38;5;124m'\u001B[39m: \u001B[38;5;124m'\u001B[39m\u001B[38;5;124morange\u001B[39m\u001B[38;5;124m'\u001B[39m,\n\u001B[0;32m     12\u001B[0m     \u001B[38;5;124m'\u001B[39m\u001B[38;5;124mAwas (Bahaya)\u001B[39m\u001B[38;5;124m'\u001B[39m: \u001B[38;5;124m'\u001B[39m\u001B[38;5;124mred\u001B[39m\u001B[38;5;124m'\u001B[39m\n\u001B[0;32m     13\u001B[0m }\n\u001B[0;32m     15\u001B[0m \u001B[38;5;66;03m# Add points to the map\u001B[39;00m\n\u001B[1;32m---> 16\u001B[0m \u001B[38;5;28;01mfor\u001B[39;00m i, row \u001B[38;5;129;01min\u001B[39;00m df\u001B[38;5;241m.\u001B[39miterrows():\n\u001B[0;32m     17\u001B[0m     folium\u001B[38;5;241m.\u001B[39mCircleMarker(\n\u001B[0;32m     18\u001B[0m         location\u001B[38;5;241m=\u001B[39m[row[\u001B[38;5;124m'\u001B[39m\u001B[38;5;124mLatitude\u001B[39m\u001B[38;5;124m'\u001B[39m], row[\u001B[38;5;124m'\u001B[39m\u001B[38;5;124mLongitude\u001B[39m\u001B[38;5;124m'\u001B[39m]],\n\u001B[0;32m     19\u001B[0m         radius\u001B[38;5;241m=\u001B[39m\u001B[38;5;241m10\u001B[39m,\n\u001B[1;32m   (...)\u001B[0m\n\u001B[0;32m     23\u001B[0m         fill_color\u001B[38;5;241m=\u001B[39mcluster_colors[row[\u001B[38;5;124m'\u001B[39m\u001B[38;5;124mCluster_Name\u001B[39m\u001B[38;5;124m'\u001B[39m]]\n\u001B[0;32m     24\u001B[0m     )\u001B[38;5;241m.\u001B[39madd_to(m)\n\u001B[0;32m     26\u001B[0m \u001B[38;5;66;03m# Display the map\u001B[39;00m\n",
      "\u001B[1;31mNameError\u001B[0m: name 'df' is not defined"
     ]
    }
   ],
   "execution_count": 1
  },
  {
   "cell_type": "code",
   "id": "e0b09693-e304-4e84-a28f-77fddffc7ea8",
   "metadata": {},
   "source": [],
   "outputs": [],
   "execution_count": null
  }
 ],
 "metadata": {
  "kernelspec": {
   "display_name": "Python 3 (ipykernel)",
   "language": "python",
   "name": "python3"
  },
  "language_info": {
   "codemirror_mode": {
    "name": "ipython",
    "version": 3
   },
   "file_extension": ".py",
   "mimetype": "text/x-python",
   "name": "python",
   "nbconvert_exporter": "python",
   "pygments_lexer": "ipython3",
   "version": "3.11.7"
  }
 },
 "nbformat": 4,
 "nbformat_minor": 5
}
