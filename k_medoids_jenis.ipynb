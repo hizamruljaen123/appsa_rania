{
 "cells": [
  {
   "cell_type": "code",
   "execution_count": 5,
   "id": "8acac1c3-c157-44a1-9ce6-66852c7fe382",
   "metadata": {},
   "outputs": [
    {
     "name": "stdout",
     "output_type": "stream",
     "text": [
      "Data telah disiapkan:\n"
     ]
    },
    {
     "data": {
      "text/html": [
       "<div>\n",
       "<style scoped>\n",
       "    .dataframe tbody tr th:only-of-type {\n",
       "        vertical-align: middle;\n",
       "    }\n",
       "\n",
       "    .dataframe tbody tr th {\n",
       "        vertical-align: top;\n",
       "    }\n",
       "\n",
       "    .dataframe thead th {\n",
       "        text-align: right;\n",
       "    }\n",
       "</style>\n",
       "<table border=\"1\" class=\"dataframe\">\n",
       "  <thead>\n",
       "    <tr style=\"text-align: right;\">\n",
       "      <th></th>\n",
       "      <th>Kecamatan</th>\n",
       "      <th>TBC_Paru</th>\n",
       "      <th>TBC_Ekstraparu</th>\n",
       "      <th>TBC_Milier</th>\n",
       "      <th>TBC_Meningitis</th>\n",
       "      <th>TBC_Kelenjar</th>\n",
       "      <th>TBC_Usus</th>\n",
       "      <th>TBC_Tulang</th>\n",
       "      <th>TBC_Kulit</th>\n",
       "      <th>Jumlah</th>\n",
       "    </tr>\n",
       "  </thead>\n",
       "  <tbody>\n",
       "    <tr>\n",
       "      <th>0</th>\n",
       "      <td>Karang Baru</td>\n",
       "      <td>15</td>\n",
       "      <td>3</td>\n",
       "      <td>2</td>\n",
       "      <td>1</td>\n",
       "      <td>4</td>\n",
       "      <td>2</td>\n",
       "      <td>1</td>\n",
       "      <td>0</td>\n",
       "      <td>28</td>\n",
       "    </tr>\n",
       "    <tr>\n",
       "      <th>1</th>\n",
       "      <td>Tamiang Hulu</td>\n",
       "      <td>10</td>\n",
       "      <td>2</td>\n",
       "      <td>1</td>\n",
       "      <td>1</td>\n",
       "      <td>3</td>\n",
       "      <td>1</td>\n",
       "      <td>1</td>\n",
       "      <td>1</td>\n",
       "      <td>20</td>\n",
       "    </tr>\n",
       "    <tr>\n",
       "      <th>2</th>\n",
       "      <td>Rantau</td>\n",
       "      <td>20</td>\n",
       "      <td>4</td>\n",
       "      <td>3</td>\n",
       "      <td>2</td>\n",
       "      <td>5</td>\n",
       "      <td>3</td>\n",
       "      <td>2</td>\n",
       "      <td>1</td>\n",
       "      <td>40</td>\n",
       "    </tr>\n",
       "    <tr>\n",
       "      <th>3</th>\n",
       "      <td>Seruway</td>\n",
       "      <td>12</td>\n",
       "      <td>3</td>\n",
       "      <td>2</td>\n",
       "      <td>2</td>\n",
       "      <td>4</td>\n",
       "      <td>2</td>\n",
       "      <td>1</td>\n",
       "      <td>1</td>\n",
       "      <td>27</td>\n",
       "    </tr>\n",
       "    <tr>\n",
       "      <th>4</th>\n",
       "      <td>Banda Mulia</td>\n",
       "      <td>8</td>\n",
       "      <td>2</td>\n",
       "      <td>1</td>\n",
       "      <td>1</td>\n",
       "      <td>2</td>\n",
       "      <td>1</td>\n",
       "      <td>1</td>\n",
       "      <td>0</td>\n",
       "      <td>16</td>\n",
       "    </tr>\n",
       "    <tr>\n",
       "      <th>5</th>\n",
       "      <td>Bendahara</td>\n",
       "      <td>14</td>\n",
       "      <td>3</td>\n",
       "      <td>2</td>\n",
       "      <td>2</td>\n",
       "      <td>4</td>\n",
       "      <td>2</td>\n",
       "      <td>1</td>\n",
       "      <td>1</td>\n",
       "      <td>29</td>\n",
       "    </tr>\n",
       "    <tr>\n",
       "      <th>6</th>\n",
       "      <td>Manyak Payed</td>\n",
       "      <td>11</td>\n",
       "      <td>2</td>\n",
       "      <td>1</td>\n",
       "      <td>1</td>\n",
       "      <td>3</td>\n",
       "      <td>1</td>\n",
       "      <td>1</td>\n",
       "      <td>0</td>\n",
       "      <td>20</td>\n",
       "    </tr>\n",
       "    <tr>\n",
       "      <th>7</th>\n",
       "      <td>Tenggulun</td>\n",
       "      <td>9</td>\n",
       "      <td>2</td>\n",
       "      <td>1</td>\n",
       "      <td>1</td>\n",
       "      <td>3</td>\n",
       "      <td>1</td>\n",
       "      <td>1</td>\n",
       "      <td>0</td>\n",
       "      <td>18</td>\n",
       "    </tr>\n",
       "    <tr>\n",
       "      <th>8</th>\n",
       "      <td>Kejuruan Muda</td>\n",
       "      <td>13</td>\n",
       "      <td>3</td>\n",
       "      <td>2</td>\n",
       "      <td>2</td>\n",
       "      <td>4</td>\n",
       "      <td>2</td>\n",
       "      <td>1</td>\n",
       "      <td>1</td>\n",
       "      <td>28</td>\n",
       "    </tr>\n",
       "    <tr>\n",
       "      <th>9</th>\n",
       "      <td>Sekerak</td>\n",
       "      <td>7</td>\n",
       "      <td>2</td>\n",
       "      <td>1</td>\n",
       "      <td>1</td>\n",
       "      <td>2</td>\n",
       "      <td>1</td>\n",
       "      <td>1</td>\n",
       "      <td>0</td>\n",
       "      <td>15</td>\n",
       "    </tr>\n",
       "    <tr>\n",
       "      <th>10</th>\n",
       "      <td>Bandar Pusaka</td>\n",
       "      <td>10</td>\n",
       "      <td>2</td>\n",
       "      <td>1</td>\n",
       "      <td>1</td>\n",
       "      <td>3</td>\n",
       "      <td>1</td>\n",
       "      <td>1</td>\n",
       "      <td>0</td>\n",
       "      <td>19</td>\n",
       "    </tr>\n",
       "    <tr>\n",
       "      <th>11</th>\n",
       "      <td>Kuala Simpang</td>\n",
       "      <td>18</td>\n",
       "      <td>4</td>\n",
       "      <td>3</td>\n",
       "      <td>2</td>\n",
       "      <td>5</td>\n",
       "      <td>3</td>\n",
       "      <td>2</td>\n",
       "      <td>1</td>\n",
       "      <td>38</td>\n",
       "    </tr>\n",
       "    <tr>\n",
       "      <th>12</th>\n",
       "      <td>Kota Kualasimpang</td>\n",
       "      <td>16</td>\n",
       "      <td>3</td>\n",
       "      <td>2</td>\n",
       "      <td>2</td>\n",
       "      <td>4</td>\n",
       "      <td>2</td>\n",
       "      <td>1</td>\n",
       "      <td>1</td>\n",
       "      <td>31</td>\n",
       "    </tr>\n",
       "  </tbody>\n",
       "</table>\n",
       "</div>"
      ],
      "text/plain": [
       "            Kecamatan  TBC_Paru  TBC_Ekstraparu  TBC_Milier  TBC_Meningitis  \\\n",
       "0         Karang Baru        15               3           2               1   \n",
       "1        Tamiang Hulu        10               2           1               1   \n",
       "2              Rantau        20               4           3               2   \n",
       "3             Seruway        12               3           2               2   \n",
       "4         Banda Mulia         8               2           1               1   \n",
       "5           Bendahara        14               3           2               2   \n",
       "6        Manyak Payed        11               2           1               1   \n",
       "7           Tenggulun         9               2           1               1   \n",
       "8       Kejuruan Muda        13               3           2               2   \n",
       "9             Sekerak         7               2           1               1   \n",
       "10      Bandar Pusaka        10               2           1               1   \n",
       "11      Kuala Simpang        18               4           3               2   \n",
       "12  Kota Kualasimpang        16               3           2               2   \n",
       "\n",
       "    TBC_Kelenjar  TBC_Usus  TBC_Tulang  TBC_Kulit  Jumlah  \n",
       "0              4         2           1          0      28  \n",
       "1              3         1           1          1      20  \n",
       "2              5         3           2          1      40  \n",
       "3              4         2           1          1      27  \n",
       "4              2         1           1          0      16  \n",
       "5              4         2           1          1      29  \n",
       "6              3         1           1          0      20  \n",
       "7              3         1           1          0      18  \n",
       "8              4         2           1          1      28  \n",
       "9              2         1           1          0      15  \n",
       "10             3         1           1          0      19  \n",
       "11             5         3           2          1      38  \n",
       "12             4         2           1          1      31  "
      ]
     },
     "execution_count": 5,
     "metadata": {},
     "output_type": "execute_result"
    }
   ],
   "source": [
    "import numpy as np\n",
    "import pandas as pd\n",
    "\n",
    "# Data penyebaran TB berdasarkan jenis TB dan usia\n",
    "data = {\n",
    "    'Kecamatan': ['Karang Baru', 'Tamiang Hulu', 'Rantau', 'Seruway', 'Banda Mulia', 'Bendahara', 'Manyak Payed', 'Tenggulun', 'Kejuruan Muda', 'Sekerak', 'Bandar Pusaka', 'Kuala Simpang', 'Kota Kualasimpang'],\n",
    "    'TBC_Paru': [15, 10, 20, 12, 8, 14, 11, 9, 13, 7, 10, 18, 16],\n",
    "    'TBC_Ekstraparu': [3, 2, 4, 3, 2, 3, 2, 2, 3, 2, 2, 4, 3],\n",
    "    'TBC_Milier': [2, 1, 3, 2, 1, 2, 1, 1, 2, 1, 1, 3, 2],\n",
    "    'TBC_Meningitis': [1, 1, 2, 2, 1, 2, 1, 1, 2, 1, 1, 2, 2],\n",
    "    'TBC_Kelenjar': [4, 3, 5, 4, 2, 4, 3, 3, 4, 2, 3, 5, 4],\n",
    "    'TBC_Usus': [2, 1, 3, 2, 1, 2, 1, 1, 2, 1, 1, 3, 2],\n",
    "    'TBC_Tulang': [1, 1, 2, 1, 1, 1, 1, 1, 1, 1, 1, 2, 1],\n",
    "    'TBC_Kulit': [0, 1, 1, 1, 0, 1, 0, 0, 1, 0, 0, 1, 1],\n",
    "    'Jumlah': [28, 20, 40, 27, 16, 29, 20, 18, 28, 15, 19, 38, 31]\n",
    "}\n",
    "\n",
    "# Convert data to DataFrame\n",
    "df = pd.DataFrame(data)\n",
    "print(\"Data telah disiapkan:\")\n",
    "df\n"
   ]
  },
  {
   "cell_type": "code",
   "execution_count": 6,
   "id": "d9c007d3-1c74-48c6-8a1a-89d57ad34b6f",
   "metadata": {},
   "outputs": [
    {
     "name": "stdout",
     "output_type": "stream",
     "text": [
      "Fitur yang diekstraksi:\n"
     ]
    },
    {
     "data": {
      "text/html": [
       "<div>\n",
       "<style scoped>\n",
       "    .dataframe tbody tr th:only-of-type {\n",
       "        vertical-align: middle;\n",
       "    }\n",
       "\n",
       "    .dataframe tbody tr th {\n",
       "        vertical-align: top;\n",
       "    }\n",
       "\n",
       "    .dataframe thead th {\n",
       "        text-align: right;\n",
       "    }\n",
       "</style>\n",
       "<table border=\"1\" class=\"dataframe\">\n",
       "  <thead>\n",
       "    <tr style=\"text-align: right;\">\n",
       "      <th></th>\n",
       "      <th>TBC_Paru</th>\n",
       "      <th>TBC_Ekstraparu</th>\n",
       "      <th>TBC_Milier</th>\n",
       "      <th>TBC_Meningitis</th>\n",
       "      <th>TBC_Kelenjar</th>\n",
       "      <th>TBC_Usus</th>\n",
       "      <th>TBC_Tulang</th>\n",
       "      <th>TBC_Kulit</th>\n",
       "    </tr>\n",
       "  </thead>\n",
       "  <tbody>\n",
       "    <tr>\n",
       "      <th>0</th>\n",
       "      <td>15</td>\n",
       "      <td>3</td>\n",
       "      <td>2</td>\n",
       "      <td>1</td>\n",
       "      <td>4</td>\n",
       "      <td>2</td>\n",
       "      <td>1</td>\n",
       "      <td>0</td>\n",
       "    </tr>\n",
       "    <tr>\n",
       "      <th>1</th>\n",
       "      <td>10</td>\n",
       "      <td>2</td>\n",
       "      <td>1</td>\n",
       "      <td>1</td>\n",
       "      <td>3</td>\n",
       "      <td>1</td>\n",
       "      <td>1</td>\n",
       "      <td>1</td>\n",
       "    </tr>\n",
       "    <tr>\n",
       "      <th>2</th>\n",
       "      <td>20</td>\n",
       "      <td>4</td>\n",
       "      <td>3</td>\n",
       "      <td>2</td>\n",
       "      <td>5</td>\n",
       "      <td>3</td>\n",
       "      <td>2</td>\n",
       "      <td>1</td>\n",
       "    </tr>\n",
       "    <tr>\n",
       "      <th>3</th>\n",
       "      <td>12</td>\n",
       "      <td>3</td>\n",
       "      <td>2</td>\n",
       "      <td>2</td>\n",
       "      <td>4</td>\n",
       "      <td>2</td>\n",
       "      <td>1</td>\n",
       "      <td>1</td>\n",
       "    </tr>\n",
       "    <tr>\n",
       "      <th>4</th>\n",
       "      <td>8</td>\n",
       "      <td>2</td>\n",
       "      <td>1</td>\n",
       "      <td>1</td>\n",
       "      <td>2</td>\n",
       "      <td>1</td>\n",
       "      <td>1</td>\n",
       "      <td>0</td>\n",
       "    </tr>\n",
       "    <tr>\n",
       "      <th>5</th>\n",
       "      <td>14</td>\n",
       "      <td>3</td>\n",
       "      <td>2</td>\n",
       "      <td>2</td>\n",
       "      <td>4</td>\n",
       "      <td>2</td>\n",
       "      <td>1</td>\n",
       "      <td>1</td>\n",
       "    </tr>\n",
       "    <tr>\n",
       "      <th>6</th>\n",
       "      <td>11</td>\n",
       "      <td>2</td>\n",
       "      <td>1</td>\n",
       "      <td>1</td>\n",
       "      <td>3</td>\n",
       "      <td>1</td>\n",
       "      <td>1</td>\n",
       "      <td>0</td>\n",
       "    </tr>\n",
       "    <tr>\n",
       "      <th>7</th>\n",
       "      <td>9</td>\n",
       "      <td>2</td>\n",
       "      <td>1</td>\n",
       "      <td>1</td>\n",
       "      <td>3</td>\n",
       "      <td>1</td>\n",
       "      <td>1</td>\n",
       "      <td>0</td>\n",
       "    </tr>\n",
       "    <tr>\n",
       "      <th>8</th>\n",
       "      <td>13</td>\n",
       "      <td>3</td>\n",
       "      <td>2</td>\n",
       "      <td>2</td>\n",
       "      <td>4</td>\n",
       "      <td>2</td>\n",
       "      <td>1</td>\n",
       "      <td>1</td>\n",
       "    </tr>\n",
       "    <tr>\n",
       "      <th>9</th>\n",
       "      <td>7</td>\n",
       "      <td>2</td>\n",
       "      <td>1</td>\n",
       "      <td>1</td>\n",
       "      <td>2</td>\n",
       "      <td>1</td>\n",
       "      <td>1</td>\n",
       "      <td>0</td>\n",
       "    </tr>\n",
       "    <tr>\n",
       "      <th>10</th>\n",
       "      <td>10</td>\n",
       "      <td>2</td>\n",
       "      <td>1</td>\n",
       "      <td>1</td>\n",
       "      <td>3</td>\n",
       "      <td>1</td>\n",
       "      <td>1</td>\n",
       "      <td>0</td>\n",
       "    </tr>\n",
       "    <tr>\n",
       "      <th>11</th>\n",
       "      <td>18</td>\n",
       "      <td>4</td>\n",
       "      <td>3</td>\n",
       "      <td>2</td>\n",
       "      <td>5</td>\n",
       "      <td>3</td>\n",
       "      <td>2</td>\n",
       "      <td>1</td>\n",
       "    </tr>\n",
       "    <tr>\n",
       "      <th>12</th>\n",
       "      <td>16</td>\n",
       "      <td>3</td>\n",
       "      <td>2</td>\n",
       "      <td>2</td>\n",
       "      <td>4</td>\n",
       "      <td>2</td>\n",
       "      <td>1</td>\n",
       "      <td>1</td>\n",
       "    </tr>\n",
       "  </tbody>\n",
       "</table>\n",
       "</div>"
      ],
      "text/plain": [
       "    TBC_Paru  TBC_Ekstraparu  TBC_Milier  TBC_Meningitis  TBC_Kelenjar  \\\n",
       "0         15               3           2               1             4   \n",
       "1         10               2           1               1             3   \n",
       "2         20               4           3               2             5   \n",
       "3         12               3           2               2             4   \n",
       "4          8               2           1               1             2   \n",
       "5         14               3           2               2             4   \n",
       "6         11               2           1               1             3   \n",
       "7          9               2           1               1             3   \n",
       "8         13               3           2               2             4   \n",
       "9          7               2           1               1             2   \n",
       "10        10               2           1               1             3   \n",
       "11        18               4           3               2             5   \n",
       "12        16               3           2               2             4   \n",
       "\n",
       "    TBC_Usus  TBC_Tulang  TBC_Kulit  \n",
       "0          2           1          0  \n",
       "1          1           1          1  \n",
       "2          3           2          1  \n",
       "3          2           1          1  \n",
       "4          1           1          0  \n",
       "5          2           1          1  \n",
       "6          1           1          0  \n",
       "7          1           1          0  \n",
       "8          2           1          1  \n",
       "9          1           1          0  \n",
       "10         1           1          0  \n",
       "11         3           2          1  \n",
       "12         2           1          1  "
      ]
     },
     "execution_count": 6,
     "metadata": {},
     "output_type": "execute_result"
    }
   ],
   "source": [
    "# Extract feature data for clustering\n",
    "X = df[['TBC_Paru', 'TBC_Ekstraparu', 'TBC_Milier', 'TBC_Meningitis', 'TBC_Kelenjar', 'TBC_Usus', 'TBC_Tulang', 'TBC_Kulit']]\n",
    "print(\"Fitur yang diekstraksi:\")\n",
    "X\n"
   ]
  },
  {
   "cell_type": "code",
   "execution_count": 7,
   "id": "673c8e43-2b55-4dc2-8910-1eaa7cd140cc",
   "metadata": {},
   "outputs": [],
   "source": [
    "from sklearn_extra.cluster import KMedoids\n",
    "\n",
    "class KMedoidsLogger(KMedoids):\n",
    "    def fit(self, X, y=None):\n",
    "        # Overriding the fit method to add logging\n",
    "        X = np.asarray(X)\n",
    "        n_samples = X.shape[0]\n",
    "        medoid_indices = self._initialize_medoids(X)\n",
    "        self.medoid_indices_ = medoid_indices\n",
    "        self.labels_ = self._assign_labels(X, medoid_indices)\n",
    "        \n",
    "        iter_no = 0\n",
    "        while True:\n",
    "            iter_no += 1\n",
    "            print(f\"Iteration {iter_no}: Medoid indices - {medoid_indices}\")\n",
    "            new_medoids = self._update_medoids(X, self.labels_)\n",
    "            new_labels = self._assign_labels(X, new_medoids)\n",
    "\n",
    "            if np.all(new_medoids == medoid_indices):\n",
    "                break\n",
    "\n",
    "            medoid_indices = new_medoids\n",
    "            self.labels_ = new_labels\n",
    "\n",
    "        self.medoid_indices_ = medoid_indices\n",
    "        self.labels_ = new_labels\n",
    "        self.cluster_centers_ = X[medoid_indices]\n",
    "        print(f\"Final Medoids: {medoid_indices}\")\n",
    "        return self\n",
    "\n",
    "    def _initialize_medoids(self, X):\n",
    "        np.random.seed(self.random_state)\n",
    "        medoid_indices = np.random.choice(len(X), self.n_clusters, replace=False)\n",
    "        return medoid_indices\n",
    "\n",
    "    def _assign_labels(self, X, medoid_indices):\n",
    "        distances = np.array([np.linalg.norm(X - X[medoid_idx], axis=1) for medoid_idx in medoid_indices])\n",
    "        return np.argmin(distances, axis=0)\n",
    "\n",
    "    def _update_medoids(self, X, labels):\n",
    "        new_medoids = np.zeros(self.n_clusters, dtype=int)\n",
    "        for i in range(self.n_clusters):\n",
    "            cluster_points = X[labels == i]\n",
    "            if len(cluster_points) == 0:\n",
    "                continue\n",
    "            medoid_idx = np.argmin(np.sum(np.linalg.norm(cluster_points[:, np.newaxis] - cluster_points, axis=2), axis=1))\n",
    "            new_medoids[i] = np.where(labels == i)[0][medoid_idx]\n",
    "        return new_medoids\n"
   ]
  },
  {
   "cell_type": "code",
   "execution_count": 8,
   "id": "87512cab-d0ce-4929-bb2c-17d315171bd6",
   "metadata": {},
   "outputs": [
    {
     "name": "stdout",
     "output_type": "stream",
     "text": [
      "Iteration 1: Medoid indices - [ 6 11  4 10]\n",
      "Iteration 2: Medoid indices - [ 8 11  4 10]\n",
      "Iteration 3: Medoid indices - [ 5  2  4 10]\n",
      "Final Medoids: [ 5  2  4 10]\n",
      "Data dengan label cluster:\n"
     ]
    },
    {
     "data": {
      "text/html": [
       "<div>\n",
       "<style scoped>\n",
       "    .dataframe tbody tr th:only-of-type {\n",
       "        vertical-align: middle;\n",
       "    }\n",
       "\n",
       "    .dataframe tbody tr th {\n",
       "        vertical-align: top;\n",
       "    }\n",
       "\n",
       "    .dataframe thead th {\n",
       "        text-align: right;\n",
       "    }\n",
       "</style>\n",
       "<table border=\"1\" class=\"dataframe\">\n",
       "  <thead>\n",
       "    <tr style=\"text-align: right;\">\n",
       "      <th></th>\n",
       "      <th>Kecamatan</th>\n",
       "      <th>Cluster_Name</th>\n",
       "    </tr>\n",
       "  </thead>\n",
       "  <tbody>\n",
       "    <tr>\n",
       "      <th>0</th>\n",
       "      <td>Karang Baru</td>\n",
       "      <td>Aman</td>\n",
       "    </tr>\n",
       "    <tr>\n",
       "      <th>1</th>\n",
       "      <td>Tamiang Hulu</td>\n",
       "      <td>Awas (Bahaya)</td>\n",
       "    </tr>\n",
       "    <tr>\n",
       "      <th>2</th>\n",
       "      <td>Rantau</td>\n",
       "      <td>Waspada</td>\n",
       "    </tr>\n",
       "    <tr>\n",
       "      <th>3</th>\n",
       "      <td>Seruway</td>\n",
       "      <td>Aman</td>\n",
       "    </tr>\n",
       "    <tr>\n",
       "      <th>4</th>\n",
       "      <td>Banda Mulia</td>\n",
       "      <td>Siaga</td>\n",
       "    </tr>\n",
       "    <tr>\n",
       "      <th>5</th>\n",
       "      <td>Bendahara</td>\n",
       "      <td>Aman</td>\n",
       "    </tr>\n",
       "    <tr>\n",
       "      <th>6</th>\n",
       "      <td>Manyak Payed</td>\n",
       "      <td>Awas (Bahaya)</td>\n",
       "    </tr>\n",
       "    <tr>\n",
       "      <th>7</th>\n",
       "      <td>Tenggulun</td>\n",
       "      <td>Awas (Bahaya)</td>\n",
       "    </tr>\n",
       "    <tr>\n",
       "      <th>8</th>\n",
       "      <td>Kejuruan Muda</td>\n",
       "      <td>Aman</td>\n",
       "    </tr>\n",
       "    <tr>\n",
       "      <th>9</th>\n",
       "      <td>Sekerak</td>\n",
       "      <td>Siaga</td>\n",
       "    </tr>\n",
       "    <tr>\n",
       "      <th>10</th>\n",
       "      <td>Bandar Pusaka</td>\n",
       "      <td>Awas (Bahaya)</td>\n",
       "    </tr>\n",
       "    <tr>\n",
       "      <th>11</th>\n",
       "      <td>Kuala Simpang</td>\n",
       "      <td>Waspada</td>\n",
       "    </tr>\n",
       "    <tr>\n",
       "      <th>12</th>\n",
       "      <td>Kota Kualasimpang</td>\n",
       "      <td>Aman</td>\n",
       "    </tr>\n",
       "  </tbody>\n",
       "</table>\n",
       "</div>"
      ],
      "text/plain": [
       "            Kecamatan   Cluster_Name\n",
       "0         Karang Baru           Aman\n",
       "1        Tamiang Hulu  Awas (Bahaya)\n",
       "2              Rantau        Waspada\n",
       "3             Seruway           Aman\n",
       "4         Banda Mulia          Siaga\n",
       "5           Bendahara           Aman\n",
       "6        Manyak Payed  Awas (Bahaya)\n",
       "7           Tenggulun  Awas (Bahaya)\n",
       "8       Kejuruan Muda           Aman\n",
       "9             Sekerak          Siaga\n",
       "10      Bandar Pusaka  Awas (Bahaya)\n",
       "11      Kuala Simpang        Waspada\n",
       "12  Kota Kualasimpang           Aman"
      ]
     },
     "execution_count": 8,
     "metadata": {},
     "output_type": "execute_result"
    }
   ],
   "source": [
    "# Define number of clusters\n",
    "n_clusters = 4\n",
    "\n",
    "# Apply KMedoids clustering with logging\n",
    "kmedoids_logger = KMedoidsLogger(n_clusters=n_clusters, random_state=0)\n",
    "kmedoids_logger.fit(X)\n",
    "\n",
    "# Add cluster labels to DataFrame\n",
    "df['Cluster'] = kmedoids_logger.labels_\n",
    "\n",
    "# Map cluster numbers to cluster names\n",
    "cluster_mapping = {0: 'Aman', 1: 'Waspada', 2: 'Siaga', 3: 'Awas (Bahaya)'}\n",
    "df['Cluster_Name'] = df['Cluster'].map(cluster_mapping)\n",
    "\n",
    "print(\"Data dengan label cluster:\")\n",
    "df[['Kecamatan', 'Cluster_Name']]\n"
   ]
  },
  {
   "cell_type": "code",
   "execution_count": 9,
   "id": "12bd89c4-a048-435a-ab90-bb80c4c92bfd",
   "metadata": {},
   "outputs": [
    {
     "data": {
      "application/vnd.plotly.v1+json": {
       "config": {
        "plotlyServerURL": "https://plot.ly"
       },
       "data": [
        {
         "customdata": [
          [
           "Karang Baru",
           "Aman"
          ],
          [
           "Seruway",
           "Aman"
          ],
          [
           "Bendahara",
           "Aman"
          ],
          [
           "Kejuruan Muda",
           "Aman"
          ],
          [
           "Kota Kualasimpang",
           "Aman"
          ]
         ],
         "hovertemplate": "Cluster_Name=%{customdata[1]}<br>TBC Paru=%{x}<br>Jumlah Kasus=%{y}<br>Kecamatan=%{customdata[0]}<extra></extra>",
         "legendgroup": "Aman",
         "marker": {
          "color": "#636efa",
          "symbol": "circle"
         },
         "mode": "markers",
         "name": "Aman",
         "orientation": "v",
         "showlegend": true,
         "type": "scatter",
         "x": [
          15,
          12,
          14,
          13,
          16
         ],
         "xaxis": "x",
         "y": [
          28,
          27,
          29,
          28,
          31
         ],
         "yaxis": "y"
        },
        {
         "customdata": [
          [
           "Tamiang Hulu",
           "Awas (Bahaya)"
          ],
          [
           "Manyak Payed",
           "Awas (Bahaya)"
          ],
          [
           "Tenggulun",
           "Awas (Bahaya)"
          ],
          [
           "Bandar Pusaka",
           "Awas (Bahaya)"
          ]
         ],
         "hovertemplate": "Cluster_Name=%{customdata[1]}<br>TBC Paru=%{x}<br>Jumlah Kasus=%{y}<br>Kecamatan=%{customdata[0]}<extra></extra>",
         "legendgroup": "Awas (Bahaya)",
         "marker": {
          "color": "#EF553B",
          "symbol": "circle"
         },
         "mode": "markers",
         "name": "Awas (Bahaya)",
         "orientation": "v",
         "showlegend": true,
         "type": "scatter",
         "x": [
          10,
          11,
          9,
          10
         ],
         "xaxis": "x",
         "y": [
          20,
          20,
          18,
          19
         ],
         "yaxis": "y"
        },
        {
         "customdata": [
          [
           "Rantau",
           "Waspada"
          ],
          [
           "Kuala Simpang",
           "Waspada"
          ]
         ],
         "hovertemplate": "Cluster_Name=%{customdata[1]}<br>TBC Paru=%{x}<br>Jumlah Kasus=%{y}<br>Kecamatan=%{customdata[0]}<extra></extra>",
         "legendgroup": "Waspada",
         "marker": {
          "color": "#00cc96",
          "symbol": "circle"
         },
         "mode": "markers",
         "name": "Waspada",
         "orientation": "v",
         "showlegend": true,
         "type": "scatter",
         "x": [
          20,
          18
         ],
         "xaxis": "x",
         "y": [
          40,
          38
         ],
         "yaxis": "y"
        },
        {
         "customdata": [
          [
           "Banda Mulia",
           "Siaga"
          ],
          [
           "Sekerak",
           "Siaga"
          ]
         ],
         "hovertemplate": "Cluster_Name=%{customdata[1]}<br>TBC Paru=%{x}<br>Jumlah Kasus=%{y}<br>Kecamatan=%{customdata[0]}<extra></extra>",
         "legendgroup": "Siaga",
         "marker": {
          "color": "#ab63fa",
          "symbol": "circle"
         },
         "mode": "markers",
         "name": "Siaga",
         "orientation": "v",
         "showlegend": true,
         "type": "scatter",
         "x": [
          8,
          7
         ],
         "xaxis": "x",
         "y": [
          16,
          15
         ],
         "yaxis": "y"
        }
       ],
       "layout": {
        "annotations": [
         {
          "align": "left",
          "bordercolor": "black",
          "borderwidth": 1,
          "showarrow": false,
          "text": "Total Kecamatan: 13<br>Status Clustering: Aman, Awas (Bahaya), Waspada, Siaga",
          "x": 1,
          "xref": "paper",
          "y": -0.1,
          "yref": "paper"
         }
        ],
        "autosize": true,
        "legend": {
         "title": {
          "text": "Cluster_Name"
         },
         "tracegroupgap": 0
        },
        "template": {
         "data": {
          "bar": [
           {
            "error_x": {
             "color": "#2a3f5f"
            },
            "error_y": {
             "color": "#2a3f5f"
            },
            "marker": {
             "line": {
              "color": "#E5ECF6",
              "width": 0.5
             },
             "pattern": {
              "fillmode": "overlay",
              "size": 10,
              "solidity": 0.2
             }
            },
            "type": "bar"
           }
          ],
          "barpolar": [
           {
            "marker": {
             "line": {
              "color": "#E5ECF6",
              "width": 0.5
             },
             "pattern": {
              "fillmode": "overlay",
              "size": 10,
              "solidity": 0.2
             }
            },
            "type": "barpolar"
           }
          ],
          "carpet": [
           {
            "aaxis": {
             "endlinecolor": "#2a3f5f",
             "gridcolor": "white",
             "linecolor": "white",
             "minorgridcolor": "white",
             "startlinecolor": "#2a3f5f"
            },
            "baxis": {
             "endlinecolor": "#2a3f5f",
             "gridcolor": "white",
             "linecolor": "white",
             "minorgridcolor": "white",
             "startlinecolor": "#2a3f5f"
            },
            "type": "carpet"
           }
          ],
          "choropleth": [
           {
            "colorbar": {
             "outlinewidth": 0,
             "ticks": ""
            },
            "type": "choropleth"
           }
          ],
          "contour": [
           {
            "colorbar": {
             "outlinewidth": 0,
             "ticks": ""
            },
            "colorscale": [
             [
              0,
              "#0d0887"
             ],
             [
              0.1111111111111111,
              "#46039f"
             ],
             [
              0.2222222222222222,
              "#7201a8"
             ],
             [
              0.3333333333333333,
              "#9c179e"
             ],
             [
              0.4444444444444444,
              "#bd3786"
             ],
             [
              0.5555555555555556,
              "#d8576b"
             ],
             [
              0.6666666666666666,
              "#ed7953"
             ],
             [
              0.7777777777777778,
              "#fb9f3a"
             ],
             [
              0.8888888888888888,
              "#fdca26"
             ],
             [
              1,
              "#f0f921"
             ]
            ],
            "type": "contour"
           }
          ],
          "contourcarpet": [
           {
            "colorbar": {
             "outlinewidth": 0,
             "ticks": ""
            },
            "type": "contourcarpet"
           }
          ],
          "heatmap": [
           {
            "colorbar": {
             "outlinewidth": 0,
             "ticks": ""
            },
            "colorscale": [
             [
              0,
              "#0d0887"
             ],
             [
              0.1111111111111111,
              "#46039f"
             ],
             [
              0.2222222222222222,
              "#7201a8"
             ],
             [
              0.3333333333333333,
              "#9c179e"
             ],
             [
              0.4444444444444444,
              "#bd3786"
             ],
             [
              0.5555555555555556,
              "#d8576b"
             ],
             [
              0.6666666666666666,
              "#ed7953"
             ],
             [
              0.7777777777777778,
              "#fb9f3a"
             ],
             [
              0.8888888888888888,
              "#fdca26"
             ],
             [
              1,
              "#f0f921"
             ]
            ],
            "type": "heatmap"
           }
          ],
          "heatmapgl": [
           {
            "colorbar": {
             "outlinewidth": 0,
             "ticks": ""
            },
            "colorscale": [
             [
              0,
              "#0d0887"
             ],
             [
              0.1111111111111111,
              "#46039f"
             ],
             [
              0.2222222222222222,
              "#7201a8"
             ],
             [
              0.3333333333333333,
              "#9c179e"
             ],
             [
              0.4444444444444444,
              "#bd3786"
             ],
             [
              0.5555555555555556,
              "#d8576b"
             ],
             [
              0.6666666666666666,
              "#ed7953"
             ],
             [
              0.7777777777777778,
              "#fb9f3a"
             ],
             [
              0.8888888888888888,
              "#fdca26"
             ],
             [
              1,
              "#f0f921"
             ]
            ],
            "type": "heatmapgl"
           }
          ],
          "histogram": [
           {
            "marker": {
             "pattern": {
              "fillmode": "overlay",
              "size": 10,
              "solidity": 0.2
             }
            },
            "type": "histogram"
           }
          ],
          "histogram2d": [
           {
            "colorbar": {
             "outlinewidth": 0,
             "ticks": ""
            },
            "colorscale": [
             [
              0,
              "#0d0887"
             ],
             [
              0.1111111111111111,
              "#46039f"
             ],
             [
              0.2222222222222222,
              "#7201a8"
             ],
             [
              0.3333333333333333,
              "#9c179e"
             ],
             [
              0.4444444444444444,
              "#bd3786"
             ],
             [
              0.5555555555555556,
              "#d8576b"
             ],
             [
              0.6666666666666666,
              "#ed7953"
             ],
             [
              0.7777777777777778,
              "#fb9f3a"
             ],
             [
              0.8888888888888888,
              "#fdca26"
             ],
             [
              1,
              "#f0f921"
             ]
            ],
            "type": "histogram2d"
           }
          ],
          "histogram2dcontour": [
           {
            "colorbar": {
             "outlinewidth": 0,
             "ticks": ""
            },
            "colorscale": [
             [
              0,
              "#0d0887"
             ],
             [
              0.1111111111111111,
              "#46039f"
             ],
             [
              0.2222222222222222,
              "#7201a8"
             ],
             [
              0.3333333333333333,
              "#9c179e"
             ],
             [
              0.4444444444444444,
              "#bd3786"
             ],
             [
              0.5555555555555556,
              "#d8576b"
             ],
             [
              0.6666666666666666,
              "#ed7953"
             ],
             [
              0.7777777777777778,
              "#fb9f3a"
             ],
             [
              0.8888888888888888,
              "#fdca26"
             ],
             [
              1,
              "#f0f921"
             ]
            ],
            "type": "histogram2dcontour"
           }
          ],
          "mesh3d": [
           {
            "colorbar": {
             "outlinewidth": 0,
             "ticks": ""
            },
            "type": "mesh3d"
           }
          ],
          "parcoords": [
           {
            "line": {
             "colorbar": {
              "outlinewidth": 0,
              "ticks": ""
             }
            },
            "type": "parcoords"
           }
          ],
          "pie": [
           {
            "automargin": true,
            "type": "pie"
           }
          ],
          "scatter": [
           {
            "fillpattern": {
             "fillmode": "overlay",
             "size": 10,
             "solidity": 0.2
            },
            "type": "scatter"
           }
          ],
          "scatter3d": [
           {
            "line": {
             "colorbar": {
              "outlinewidth": 0,
              "ticks": ""
             }
            },
            "marker": {
             "colorbar": {
              "outlinewidth": 0,
              "ticks": ""
             }
            },
            "type": "scatter3d"
           }
          ],
          "scattercarpet": [
           {
            "marker": {
             "colorbar": {
              "outlinewidth": 0,
              "ticks": ""
             }
            },
            "type": "scattercarpet"
           }
          ],
          "scattergeo": [
           {
            "marker": {
             "colorbar": {
              "outlinewidth": 0,
              "ticks": ""
             }
            },
            "type": "scattergeo"
           }
          ],
          "scattergl": [
           {
            "marker": {
             "colorbar": {
              "outlinewidth": 0,
              "ticks": ""
             }
            },
            "type": "scattergl"
           }
          ],
          "scattermapbox": [
           {
            "marker": {
             "colorbar": {
              "outlinewidth": 0,
              "ticks": ""
             }
            },
            "type": "scattermapbox"
           }
          ],
          "scatterpolar": [
           {
            "marker": {
             "colorbar": {
              "outlinewidth": 0,
              "ticks": ""
             }
            },
            "type": "scatterpolar"
           }
          ],
          "scatterpolargl": [
           {
            "marker": {
             "colorbar": {
              "outlinewidth": 0,
              "ticks": ""
             }
            },
            "type": "scatterpolargl"
           }
          ],
          "scatterternary": [
           {
            "marker": {
             "colorbar": {
              "outlinewidth": 0,
              "ticks": ""
             }
            },
            "type": "scatterternary"
           }
          ],
          "surface": [
           {
            "colorbar": {
             "outlinewidth": 0,
             "ticks": ""
            },
            "colorscale": [
             [
              0,
              "#0d0887"
             ],
             [
              0.1111111111111111,
              "#46039f"
             ],
             [
              0.2222222222222222,
              "#7201a8"
             ],
             [
              0.3333333333333333,
              "#9c179e"
             ],
             [
              0.4444444444444444,
              "#bd3786"
             ],
             [
              0.5555555555555556,
              "#d8576b"
             ],
             [
              0.6666666666666666,
              "#ed7953"
             ],
             [
              0.7777777777777778,
              "#fb9f3a"
             ],
             [
              0.8888888888888888,
              "#fdca26"
             ],
             [
              1,
              "#f0f921"
             ]
            ],
            "type": "surface"
           }
          ],
          "table": [
           {
            "cells": {
             "fill": {
              "color": "#EBF0F8"
             },
             "line": {
              "color": "white"
             }
            },
            "header": {
             "fill": {
              "color": "#C8D4E3"
             },
             "line": {
              "color": "white"
             }
            },
            "type": "table"
           }
          ]
         },
         "layout": {
          "annotationdefaults": {
           "arrowcolor": "#2a3f5f",
           "arrowhead": 0,
           "arrowwidth": 1
          },
          "autotypenumbers": "strict",
          "coloraxis": {
           "colorbar": {
            "outlinewidth": 0,
            "ticks": ""
           }
          },
          "colorscale": {
           "diverging": [
            [
             0,
             "#8e0152"
            ],
            [
             0.1,
             "#c51b7d"
            ],
            [
             0.2,
             "#de77ae"
            ],
            [
             0.3,
             "#f1b6da"
            ],
            [
             0.4,
             "#fde0ef"
            ],
            [
             0.5,
             "#f7f7f7"
            ],
            [
             0.6,
             "#e6f5d0"
            ],
            [
             0.7,
             "#b8e186"
            ],
            [
             0.8,
             "#7fbc41"
            ],
            [
             0.9,
             "#4d9221"
            ],
            [
             1,
             "#276419"
            ]
           ],
           "sequential": [
            [
             0,
             "#0d0887"
            ],
            [
             0.1111111111111111,
             "#46039f"
            ],
            [
             0.2222222222222222,
             "#7201a8"
            ],
            [
             0.3333333333333333,
             "#9c179e"
            ],
            [
             0.4444444444444444,
             "#bd3786"
            ],
            [
             0.5555555555555556,
             "#d8576b"
            ],
            [
             0.6666666666666666,
             "#ed7953"
            ],
            [
             0.7777777777777778,
             "#fb9f3a"
            ],
            [
             0.8888888888888888,
             "#fdca26"
            ],
            [
             1,
             "#f0f921"
            ]
           ],
           "sequentialminus": [
            [
             0,
             "#0d0887"
            ],
            [
             0.1111111111111111,
             "#46039f"
            ],
            [
             0.2222222222222222,
             "#7201a8"
            ],
            [
             0.3333333333333333,
             "#9c179e"
            ],
            [
             0.4444444444444444,
             "#bd3786"
            ],
            [
             0.5555555555555556,
             "#d8576b"
            ],
            [
             0.6666666666666666,
             "#ed7953"
            ],
            [
             0.7777777777777778,
             "#fb9f3a"
            ],
            [
             0.8888888888888888,
             "#fdca26"
            ],
            [
             1,
             "#f0f921"
            ]
           ]
          },
          "colorway": [
           "#636efa",
           "#EF553B",
           "#00cc96",
           "#ab63fa",
           "#FFA15A",
           "#19d3f3",
           "#FF6692",
           "#B6E880",
           "#FF97FF",
           "#FECB52"
          ],
          "font": {
           "color": "#2a3f5f"
          },
          "geo": {
           "bgcolor": "white",
           "lakecolor": "white",
           "landcolor": "#E5ECF6",
           "showlakes": true,
           "showland": true,
           "subunitcolor": "white"
          },
          "hoverlabel": {
           "align": "left"
          },
          "hovermode": "closest",
          "mapbox": {
           "style": "light"
          },
          "paper_bgcolor": "white",
          "plot_bgcolor": "#E5ECF6",
          "polar": {
           "angularaxis": {
            "gridcolor": "white",
            "linecolor": "white",
            "ticks": ""
           },
           "bgcolor": "#E5ECF6",
           "radialaxis": {
            "gridcolor": "white",
            "linecolor": "white",
            "ticks": ""
           }
          },
          "scene": {
           "xaxis": {
            "backgroundcolor": "#E5ECF6",
            "gridcolor": "white",
            "gridwidth": 2,
            "linecolor": "white",
            "showbackground": true,
            "ticks": "",
            "zerolinecolor": "white"
           },
           "yaxis": {
            "backgroundcolor": "#E5ECF6",
            "gridcolor": "white",
            "gridwidth": 2,
            "linecolor": "white",
            "showbackground": true,
            "ticks": "",
            "zerolinecolor": "white"
           },
           "zaxis": {
            "backgroundcolor": "#E5ECF6",
            "gridcolor": "white",
            "gridwidth": 2,
            "linecolor": "white",
            "showbackground": true,
            "ticks": "",
            "zerolinecolor": "white"
           }
          },
          "shapedefaults": {
           "line": {
            "color": "#2a3f5f"
           }
          },
          "ternary": {
           "aaxis": {
            "gridcolor": "white",
            "linecolor": "white",
            "ticks": ""
           },
           "baxis": {
            "gridcolor": "white",
            "linecolor": "white",
            "ticks": ""
           },
           "bgcolor": "#E5ECF6",
           "caxis": {
            "gridcolor": "white",
            "linecolor": "white",
            "ticks": ""
           }
          },
          "title": {
           "x": 0.05
          },
          "xaxis": {
           "automargin": true,
           "gridcolor": "white",
           "linecolor": "white",
           "ticks": "",
           "title": {
            "standoff": 15
           },
           "zerolinecolor": "white",
           "zerolinewidth": 2
          },
          "yaxis": {
           "automargin": true,
           "gridcolor": "white",
           "linecolor": "white",
           "ticks": "",
           "title": {
            "standoff": 15
           },
           "zerolinecolor": "white",
           "zerolinewidth": 2
          }
         }
        },
        "title": {
         "text": "Clustering Penyebaran TB di Kabupaten Aceh Tamiang"
        },
        "xaxis": {
         "anchor": "y",
         "autorange": true,
         "domain": [
          0,
          1
         ],
         "range": [
          6.206692913385827,
          20.793307086614174
         ],
         "title": {
          "text": "TBC Paru"
         },
         "type": "linear"
        },
        "yaxis": {
         "anchor": "x",
         "autorange": true,
         "domain": [
          0,
          1
         ],
         "range": [
          12.936893203883496,
          42.06310679611651
         ],
         "title": {
          "text": "Jumlah Kasus"
         },
         "type": "linear"
        }
       }
      },
      "image/png": "[encoded data removed]",
      "text/html": [
       "<div>                            <div id=\"f7d23537-d8bb-4932-b9c6-0192fef4390b\" class=\"plotly-graph-div\" style=\"height:525px; width:100%;\"></div>            <script type=\"text/javascript\">                require([\"plotly\"], function(Plotly) {                    window.PLOTLYENV=window.PLOTLYENV || {};                                    if (document.getElementById(\"f7d23537-d8bb-4932-b9c6-0192fef4390b\")) {                    Plotly.newPlot(                        \"f7d23537-d8bb-4932-b9c6-0192fef4390b\",                        [{\"customdata\":[[\"Karang Baru\",\"Aman\"],[\"Seruway\",\"Aman\"],[\"Bendahara\",\"Aman\"],[\"Kejuruan Muda\",\"Aman\"],[\"Kota Kualasimpang\",\"Aman\"]],\"hovertemplate\":\"Cluster_Name=%{customdata[1]}<br>TBC Paru=%{x}<br>Jumlah Kasus=%{y}<br>Kecamatan=%{customdata[0]}<extra></extra>\",\"legendgroup\":\"Aman\",\"marker\":{\"color\":\"#636efa\",\"symbol\":\"circle\"},\"mode\":\"markers\",\"name\":\"Aman\",\"orientation\":\"v\",\"showlegend\":true,\"x\":[15,12,14,13,16],\"xaxis\":\"x\",\"y\":[28,27,29,28,31],\"yaxis\":\"y\",\"type\":\"scatter\"},{\"customdata\":[[\"Tamiang Hulu\",\"Awas (Bahaya)\"],[\"Manyak Payed\",\"Awas (Bahaya)\"],[\"Tenggulun\",\"Awas (Bahaya)\"],[\"Bandar Pusaka\",\"Awas (Bahaya)\"]],\"hovertemplate\":\"Cluster_Name=%{customdata[1]}<br>TBC Paru=%{x}<br>Jumlah Kasus=%{y}<br>Kecamatan=%{customdata[0]}<extra></extra>\",\"legendgroup\":\"Awas (Bahaya)\",\"marker\":{\"color\":\"#EF553B\",\"symbol\":\"circle\"},\"mode\":\"markers\",\"name\":\"Awas (Bahaya)\",\"orientation\":\"v\",\"showlegend\":true,\"x\":[10,11,9,10],\"xaxis\":\"x\",\"y\":[20,20,18,19],\"yaxis\":\"y\",\"type\":\"scatter\"},{\"customdata\":[[\"Rantau\",\"Waspada\"],[\"Kuala Simpang\",\"Waspada\"]],\"hovertemplate\":\"Cluster_Name=%{customdata[1]}<br>TBC Paru=%{x}<br>Jumlah Kasus=%{y}<br>Kecamatan=%{customdata[0]}<extra></extra>\",\"legendgroup\":\"Waspada\",\"marker\":{\"color\":\"#00cc96\",\"symbol\":\"circle\"},\"mode\":\"markers\",\"name\":\"Waspada\",\"orientation\":\"v\",\"showlegend\":true,\"x\":[20,18],\"xaxis\":\"x\",\"y\":[40,38],\"yaxis\":\"y\",\"type\":\"scatter\"},{\"customdata\":[[\"Banda Mulia\",\"Siaga\"],[\"Sekerak\",\"Siaga\"]],\"hovertemplate\":\"Cluster_Name=%{customdata[1]}<br>TBC Paru=%{x}<br>Jumlah Kasus=%{y}<br>Kecamatan=%{customdata[0]}<extra></extra>\",\"legendgroup\":\"Siaga\",\"marker\":{\"color\":\"#ab63fa\",\"symbol\":\"circle\"},\"mode\":\"markers\",\"name\":\"Siaga\",\"orientation\":\"v\",\"showlegend\":true,\"x\":[8,7],\"xaxis\":\"x\",\"y\":[16,15],\"yaxis\":\"y\",\"type\":\"scatter\"}],                        {\"template\":{\"data\":{\"histogram2dcontour\":[{\"type\":\"histogram2dcontour\",\"colorbar\":{\"outlinewidth\":0,\"ticks\":\"\"},\"colorscale\":[[0.0,\"#0d0887\"],[0.1111111111111111,\"#46039f\"],[0.2222222222222222,\"#7201a8\"],[0.3333333333333333,\"#9c179e\"],[0.4444444444444444,\"#bd3786\"],[0.5555555555555556,\"#d8576b\"],[0.6666666666666666,\"#ed7953\"],[0.7777777777777778,\"#fb9f3a\"],[0.8888888888888888,\"#fdca26\"],[1.0,\"#f0f921\"]]}],\"choropleth\":[{\"type\":\"choropleth\",\"colorbar\":{\"outlinewidth\":0,\"ticks\":\"\"}}],\"histogram2d\":[{\"type\":\"histogram2d\",\"colorbar\":{\"outlinewidth\":0,\"ticks\":\"\"},\"colorscale\":[[0.0,\"#0d0887\"],[0.1111111111111111,\"#46039f\"],[0.2222222222222222,\"#7201a8\"],[0.3333333333333333,\"#9c179e\"],[0.4444444444444444,\"#bd3786\"],[0.5555555555555556,\"#d8576b\"],[0.6666666666666666,\"#ed7953\"],[0.7777777777777778,\"#fb9f3a\"],[0.8888888888888888,\"#fdca26\"],[1.0,\"#f0f921\"]]}],\"heatmap\":[{\"type\":\"heatmap\",\"colorbar\":{\"outlinewidth\":0,\"ticks\":\"\"},\"colorscale\":[[0.0,\"#0d0887\"],[0.1111111111111111,\"#46039f\"],[0.2222222222222222,\"#7201a8\"],[0.3333333333333333,\"#9c179e\"],[0.4444444444444444,\"#bd3786\"],[0.5555555555555556,\"#d8576b\"],[0.6666666666666666,\"#ed7953\"],[0.7777777777777778,\"#fb9f3a\"],[0.8888888888888888,\"#fdca26\"],[1.0,\"#f0f921\"]]}],\"heatmapgl\":[{\"type\":\"heatmapgl\",\"colorbar\":{\"outlinewidth\":0,\"ticks\":\"\"},\"colorscale\":[[0.0,\"#0d0887\"],[0.1111111111111111,\"#46039f\"],[0.2222222222222222,\"#7201a8\"],[0.3333333333333333,\"#9c179e\"],[0.4444444444444444,\"#bd3786\"],[0.5555555555555556,\"#d8576b\"],[0.6666666666666666,\"#ed7953\"],[0.7777777777777778,\"#fb9f3a\"],[0.8888888888888888,\"#fdca26\"],[1.0,\"#f0f921\"]]}],\"contourcarpet\":[{\"type\":\"contourcarpet\",\"colorbar\":{\"outlinewidth\":0,\"ticks\":\"\"}}],\"contour\":[{\"type\":\"contour\",\"colorbar\":{\"outlinewidth\":0,\"ticks\":\"\"},\"colorscale\":[[0.0,\"#0d0887\"],[0.1111111111111111,\"#46039f\"],[0.2222222222222222,\"#7201a8\"],[0.3333333333333333,\"#9c179e\"],[0.4444444444444444,\"#bd3786\"],[0.5555555555555556,\"#d8576b\"],[0.6666666666666666,\"#ed7953\"],[0.7777777777777778,\"#fb9f3a\"],[0.8888888888888888,\"#fdca26\"],[1.0,\"#f0f921\"]]}],\"surface\":[{\"type\":\"surface\",\"colorbar\":{\"outlinewidth\":0,\"ticks\":\"\"},\"colorscale\":[[0.0,\"#0d0887\"],[0.1111111111111111,\"#46039f\"],[0.2222222222222222,\"#7201a8\"],[0.3333333333333333,\"#9c179e\"],[0.4444444444444444,\"#bd3786\"],[0.5555555555555556,\"#d8576b\"],[0.6666666666666666,\"#ed7953\"],[0.7777777777777778,\"#fb9f3a\"],[0.8888888888888888,\"#fdca26\"],[1.0,\"#f0f921\"]]}],\"mesh3d\":[{\"type\":\"mesh3d\",\"colorbar\":{\"outlinewidth\":0,\"ticks\":\"\"}}],\"scatter\":[{\"fillpattern\":{\"fillmode\":\"overlay\",\"size\":10,\"solidity\":0.2},\"type\":\"scatter\"}],\"parcoords\":[{\"type\":\"parcoords\",\"line\":{\"colorbar\":{\"outlinewidth\":0,\"ticks\":\"\"}}}],\"scatterpolargl\":[{\"type\":\"scatterpolargl\",\"marker\":{\"colorbar\":{\"outlinewidth\":0,\"ticks\":\"\"}}}],\"bar\":[{\"error_x\":{\"color\":\"#2a3f5f\"},\"error_y\":{\"color\":\"#2a3f5f\"},\"marker\":{\"line\":{\"color\":\"#E5ECF6\",\"width\":0.5},\"pattern\":{\"fillmode\":\"overlay\",\"size\":10,\"solidity\":0.2}},\"type\":\"bar\"}],\"scattergeo\":[{\"type\":\"scattergeo\",\"marker\":{\"colorbar\":{\"outlinewidth\":0,\"ticks\":\"\"}}}],\"scatterpolar\":[{\"type\":\"scatterpolar\",\"marker\":{\"colorbar\":{\"outlinewidth\":0,\"ticks\":\"\"}}}],\"histogram\":[{\"marker\":{\"pattern\":{\"fillmode\":\"overlay\",\"size\":10,\"solidity\":0.2}},\"type\":\"histogram\"}],\"scattergl\":[{\"type\":\"scattergl\",\"marker\":{\"colorbar\":{\"outlinewidth\":0,\"ticks\":\"\"}}}],\"scatter3d\":[{\"type\":\"scatter3d\",\"line\":{\"colorbar\":{\"outlinewidth\":0,\"ticks\":\"\"}},\"marker\":{\"colorbar\":{\"outlinewidth\":0,\"ticks\":\"\"}}}],\"scattermapbox\":[{\"type\":\"scattermapbox\",\"marker\":{\"colorbar\":{\"outlinewidth\":0,\"ticks\":\"\"}}}],\"scatterternary\":[{\"type\":\"scatterternary\",\"marker\":{\"colorbar\":{\"outlinewidth\":0,\"ticks\":\"\"}}}],\"scattercarpet\":[{\"type\":\"scattercarpet\",\"marker\":{\"colorbar\":{\"outlinewidth\":0,\"ticks\":\"\"}}}],\"carpet\":[{\"aaxis\":{\"endlinecolor\":\"#2a3f5f\",\"gridcolor\":\"white\",\"linecolor\":\"white\",\"minorgridcolor\":\"white\",\"startlinecolor\":\"#2a3f5f\"},\"baxis\":{\"endlinecolor\":\"#2a3f5f\",\"gridcolor\":\"white\",\"linecolor\":\"white\",\"minorgridcolor\":\"white\",\"startlinecolor\":\"#2a3f5f\"},\"type\":\"carpet\"}],\"table\":[{\"cells\":{\"fill\":{\"color\":\"#EBF0F8\"},\"line\":{\"color\":\"white\"}},\"header\":{\"fill\":{\"color\":\"#C8D4E3\"},\"line\":{\"color\":\"white\"}},\"type\":\"table\"}],\"barpolar\":[{\"marker\":{\"line\":{\"color\":\"#E5ECF6\",\"width\":0.5},\"pattern\":{\"fillmode\":\"overlay\",\"size\":10,\"solidity\":0.2}},\"type\":\"barpolar\"}],\"pie\":[{\"automargin\":true,\"type\":\"pie\"}]},\"layout\":{\"autotypenumbers\":\"strict\",\"colorway\":[\"#636efa\",\"#EF553B\",\"#00cc96\",\"#ab63fa\",\"#FFA15A\",\"#19d3f3\",\"#FF6692\",\"#B6E880\",\"#FF97FF\",\"#FECB52\"],\"font\":{\"color\":\"#2a3f5f\"},\"hovermode\":\"closest\",\"hoverlabel\":{\"align\":\"left\"},\"paper_bgcolor\":\"white\",\"plot_bgcolor\":\"#E5ECF6\",\"polar\":{\"bgcolor\":\"#E5ECF6\",\"angularaxis\":{\"gridcolor\":\"white\",\"linecolor\":\"white\",\"ticks\":\"\"},\"radialaxis\":{\"gridcolor\":\"white\",\"linecolor\":\"white\",\"ticks\":\"\"}},\"ternary\":{\"bgcolor\":\"#E5ECF6\",\"aaxis\":{\"gridcolor\":\"white\",\"linecolor\":\"white\",\"ticks\":\"\"},\"baxis\":{\"gridcolor\":\"white\",\"linecolor\":\"white\",\"ticks\":\"\"},\"caxis\":{\"gridcolor\":\"white\",\"linecolor\":\"white\",\"ticks\":\"\"}},\"coloraxis\":{\"colorbar\":{\"outlinewidth\":0,\"ticks\":\"\"}},\"colorscale\":{\"sequential\":[[0.0,\"#0d0887\"],[0.1111111111111111,\"#46039f\"],[0.2222222222222222,\"#7201a8\"],[0.3333333333333333,\"#9c179e\"],[0.4444444444444444,\"#bd3786\"],[0.5555555555555556,\"#d8576b\"],[0.6666666666666666,\"#ed7953\"],[0.7777777777777778,\"#fb9f3a\"],[0.8888888888888888,\"#fdca26\"],[1.0,\"#f0f921\"]],\"sequentialminus\":[[0.0,\"#0d0887\"],[0.1111111111111111,\"#46039f\"],[0.2222222222222222,\"#7201a8\"],[0.3333333333333333,\"#9c179e\"],[0.4444444444444444,\"#bd3786\"],[0.5555555555555556,\"#d8576b\"],[0.6666666666666666,\"#ed7953\"],[0.7777777777777778,\"#fb9f3a\"],[0.8888888888888888,\"#fdca26\"],[1.0,\"#f0f921\"]],\"diverging\":[[0,\"#8e0152\"],[0.1,\"#c51b7d\"],[0.2,\"#de77ae\"],[0.3,\"#f1b6da\"],[0.4,\"#fde0ef\"],[0.5,\"#f7f7f7\"],[0.6,\"#e6f5d0\"],[0.7,\"#b8e186\"],[0.8,\"#7fbc41\"],[0.9,\"#4d9221\"],[1,\"#276419\"]]},\"xaxis\":{\"gridcolor\":\"white\",\"linecolor\":\"white\",\"ticks\":\"\",\"title\":{\"standoff\":15},\"zerolinecolor\":\"white\",\"automargin\":true,\"zerolinewidth\":2},\"yaxis\":{\"gridcolor\":\"white\",\"linecolor\":\"white\",\"ticks\":\"\",\"title\":{\"standoff\":15},\"zerolinecolor\":\"white\",\"automargin\":true,\"zerolinewidth\":2},\"scene\":{\"xaxis\":{\"backgroundcolor\":\"#E5ECF6\",\"gridcolor\":\"white\",\"linecolor\":\"white\",\"showbackground\":true,\"ticks\":\"\",\"zerolinecolor\":\"white\",\"gridwidth\":2},\"yaxis\":{\"backgroundcolor\":\"#E5ECF6\",\"gridcolor\":\"white\",\"linecolor\":\"white\",\"showbackground\":true,\"ticks\":\"\",\"zerolinecolor\":\"white\",\"gridwidth\":2},\"zaxis\":{\"backgroundcolor\":\"#E5ECF6\",\"gridcolor\":\"white\",\"linecolor\":\"white\",\"showbackground\":true,\"ticks\":\"\",\"zerolinecolor\":\"white\",\"gridwidth\":2}},\"shapedefaults\":{\"line\":{\"color\":\"#2a3f5f\"}},\"annotationdefaults\":{\"arrowcolor\":\"#2a3f5f\",\"arrowhead\":0,\"arrowwidth\":1},\"geo\":{\"bgcolor\":\"white\",\"landcolor\":\"#E5ECF6\",\"subunitcolor\":\"white\",\"showland\":true,\"showlakes\":true,\"lakecolor\":\"white\"},\"title\":{\"x\":0.05},\"mapbox\":{\"style\":\"light\"}}},\"xaxis\":{\"anchor\":\"y\",\"domain\":[0.0,1.0],\"title\":{\"text\":\"TBC Paru\"}},\"yaxis\":{\"anchor\":\"x\",\"domain\":[0.0,1.0],\"title\":{\"text\":\"Jumlah Kasus\"}},\"legend\":{\"title\":{\"text\":\"Cluster_Name\"},\"tracegroupgap\":0},\"title\":{\"text\":\"Clustering Penyebaran TB di Kabupaten Aceh Tamiang\"},\"annotations\":[{\"align\":\"left\",\"bordercolor\":\"black\",\"borderwidth\":1,\"showarrow\":false,\"text\":\"Total Kecamatan: 13<br>Status Clustering: Aman, Awas (Bahaya), Waspada, Siaga\",\"x\":1,\"xref\":\"paper\",\"y\":-0.1,\"yref\":\"paper\"}]},                        {\"responsive\": true}                    ).then(function(){\n",
       "                            \n",
       "var gd = document.getElementById('f7d23537-d8bb-4932-b9c6-0192fef4390b');\n",
       "var x = new MutationObserver(function (mutations, observer) {{\n",
       "        var display = window.getComputedStyle(gd).display;\n",
       "        if (!display || display === 'none') {{\n",
       "            console.log([gd, 'removed!']);\n",
       "            Plotly.purge(gd);\n",
       "            observer.disconnect();\n",
       "        }}\n",
       "}});\n",
       "\n",
       "// Listen for the removal of the full notebook cells\n",
       "var notebookContainer = gd.closest('#notebook-container');\n",
       "if (notebookContainer) {{\n",
       "    x.observe(notebookContainer, {childList: true});\n",
       "}}\n",
       "\n",
       "// Listen for the clearing of the current output cell\n",
       "var outputEl = gd.closest('.output');\n",
       "if (outputEl) {{\n",
       "    x.observe(outputEl, {childList: true});\n",
       "}}\n",
       "\n",
       "                        })                };                });            </script>        </div>"
      ]
     },
     "metadata": {},
     "output_type": "display_data"
    }
   ],
   "source": [
    "import plotly.express as px\n",
    "import plotly.graph_objects as go\n",
    "\n",
    "# Plot the clustering result\n",
    "fig = px.scatter(\n",
    "    df, x='TBC_Paru', y='Jumlah', color='Cluster_Name',\n",
    "    hover_data={'Kecamatan': True, 'Cluster_Name': True, 'TBC_Paru': True, 'Jumlah': True},\n",
    "    title='Clustering Penyebaran TB di Kabupaten Aceh Tamiang',\n",
    "    labels={'TBC_Paru': 'TBC Paru', 'Jumlah': 'Jumlah Kasus'}\n",
    ")\n",
    "\n",
    "# Adding total counts and cluster status to the plot\n",
    "total_kecamatan = df.shape[0]\n",
    "fig.update_layout(\n",
    "    annotations=[\n",
    "        go.layout.Annotation(\n",
    "            text=f\"Total Kecamatan: {total_kecamatan}<br>Status Clustering: {', '.join(df['Cluster_Name'].unique())}\",\n",
    "            align='left',\n",
    "            showarrow=False,\n",
    "            xref='paper',\n",
    "            yref='paper',\n",
    "            x=1,\n",
    "            y=-0.1,\n",
    "            bordercolor='black',\n",
    "            borderwidth=1\n",
    "        )\n",
    "    ]\n",
    ")\n",
    "\n",
    "# Show the plot\n",
    "fig.show()\n"
   ]
  },
  {
   "cell_type": "code",
   "execution_count": 10,
   "id": "6106036f-f740-4daf-a44e-b5748fa550b4",
   "metadata": {},
   "outputs": [
    {
     "name": "stdout",
     "output_type": "stream",
     "text": [
      "Data dengan koordinat geografis:\n"
     ]
    },
    {
     "data": {
      "text/html": [
       "<div>\n",
       "<style scoped>\n",
       "    .dataframe tbody tr th:only-of-type {\n",
       "        vertical-align: middle;\n",
       "    }\n",
       "\n",
       "    .dataframe tbody tr th {\n",
       "        vertical-align: top;\n",
       "    }\n",
       "\n",
       "    .dataframe thead th {\n",
       "        text-align: right;\n",
       "    }\n",
       "</style>\n",
       "<table border=\"1\" class=\"dataframe\">\n",
       "  <thead>\n",
       "    <tr style=\"text-align: right;\">\n",
       "      <th></th>\n",
       "      <th>Kecamatan</th>\n",
       "      <th>TBC_Paru</th>\n",
       "      <th>TBC_Ekstraparu</th>\n",
       "      <th>TBC_Milier</th>\n",
       "      <th>TBC_Meningitis</th>\n",
       "      <th>TBC_Kelenjar</th>\n",
       "      <th>TBC_Usus</th>\n",
       "      <th>TBC_Tulang</th>\n",
       "      <th>TBC_Kulit</th>\n",
       "      <th>Jumlah</th>\n",
       "      <th>Cluster</th>\n",
       "      <th>Cluster_Name</th>\n",
       "      <th>Latitude</th>\n",
       "      <th>Longitude</th>\n",
       "    </tr>\n",
       "  </thead>\n",
       "  <tbody>\n",
       "    <tr>\n",
       "      <th>0</th>\n",
       "      <td>Karang Baru</td>\n",
       "      <td>15</td>\n",
       "      <td>3</td>\n",
       "      <td>2</td>\n",
       "      <td>1</td>\n",
       "      <td>4</td>\n",
       "      <td>2</td>\n",
       "      <td>1</td>\n",
       "      <td>0</td>\n",
       "      <td>28</td>\n",
       "      <td>0</td>\n",
       "      <td>Aman</td>\n",
       "      <td>4.1754</td>\n",
       "      <td>98.0093</td>\n",
       "    </tr>\n",
       "    <tr>\n",
       "      <th>1</th>\n",
       "      <td>Tamiang Hulu</td>\n",
       "      <td>10</td>\n",
       "      <td>2</td>\n",
       "      <td>1</td>\n",
       "      <td>1</td>\n",
       "      <td>3</td>\n",
       "      <td>1</td>\n",
       "      <td>1</td>\n",
       "      <td>1</td>\n",
       "      <td>20</td>\n",
       "      <td>3</td>\n",
       "      <td>Awas (Bahaya)</td>\n",
       "      <td>4.2534</td>\n",
       "      <td>97.8358</td>\n",
       "    </tr>\n",
       "    <tr>\n",
       "      <th>2</th>\n",
       "      <td>Rantau</td>\n",
       "      <td>20</td>\n",
       "      <td>4</td>\n",
       "      <td>3</td>\n",
       "      <td>2</td>\n",
       "      <td>5</td>\n",
       "      <td>3</td>\n",
       "      <td>2</td>\n",
       "      <td>1</td>\n",
       "      <td>40</td>\n",
       "      <td>1</td>\n",
       "      <td>Waspada</td>\n",
       "      <td>4.1422</td>\n",
       "      <td>98.0502</td>\n",
       "    </tr>\n",
       "    <tr>\n",
       "      <th>3</th>\n",
       "      <td>Seruway</td>\n",
       "      <td>12</td>\n",
       "      <td>3</td>\n",
       "      <td>2</td>\n",
       "      <td>2</td>\n",
       "      <td>4</td>\n",
       "      <td>2</td>\n",
       "      <td>1</td>\n",
       "      <td>1</td>\n",
       "      <td>27</td>\n",
       "      <td>0</td>\n",
       "      <td>Aman</td>\n",
       "      <td>3.9942</td>\n",
       "      <td>98.0947</td>\n",
       "    </tr>\n",
       "    <tr>\n",
       "      <th>4</th>\n",
       "      <td>Banda Mulia</td>\n",
       "      <td>8</td>\n",
       "      <td>2</td>\n",
       "      <td>1</td>\n",
       "      <td>1</td>\n",
       "      <td>2</td>\n",
       "      <td>1</td>\n",
       "      <td>1</td>\n",
       "      <td>0</td>\n",
       "      <td>16</td>\n",
       "      <td>2</td>\n",
       "      <td>Siaga</td>\n",
       "      <td>4.0982</td>\n",
       "      <td>98.0566</td>\n",
       "    </tr>\n",
       "    <tr>\n",
       "      <th>5</th>\n",
       "      <td>Bendahara</td>\n",
       "      <td>14</td>\n",
       "      <td>3</td>\n",
       "      <td>2</td>\n",
       "      <td>2</td>\n",
       "      <td>4</td>\n",
       "      <td>2</td>\n",
       "      <td>1</td>\n",
       "      <td>1</td>\n",
       "      <td>29</td>\n",
       "      <td>0</td>\n",
       "      <td>Aman</td>\n",
       "      <td>4.2112</td>\n",
       "      <td>98.0194</td>\n",
       "    </tr>\n",
       "    <tr>\n",
       "      <th>6</th>\n",
       "      <td>Manyak Payed</td>\n",
       "      <td>11</td>\n",
       "      <td>2</td>\n",
       "      <td>1</td>\n",
       "      <td>1</td>\n",
       "      <td>3</td>\n",
       "      <td>1</td>\n",
       "      <td>1</td>\n",
       "      <td>0</td>\n",
       "      <td>20</td>\n",
       "      <td>3</td>\n",
       "      <td>Awas (Bahaya)</td>\n",
       "      <td>4.2446</td>\n",
       "      <td>98.1084</td>\n",
       "    </tr>\n",
       "    <tr>\n",
       "      <th>7</th>\n",
       "      <td>Tenggulun</td>\n",
       "      <td>9</td>\n",
       "      <td>2</td>\n",
       "      <td>1</td>\n",
       "      <td>1</td>\n",
       "      <td>3</td>\n",
       "      <td>1</td>\n",
       "      <td>1</td>\n",
       "      <td>0</td>\n",
       "      <td>18</td>\n",
       "      <td>3</td>\n",
       "      <td>Awas (Bahaya)</td>\n",
       "      <td>4.4205</td>\n",
       "      <td>97.9111</td>\n",
       "    </tr>\n",
       "    <tr>\n",
       "      <th>8</th>\n",
       "      <td>Kejuruan Muda</td>\n",
       "      <td>13</td>\n",
       "      <td>3</td>\n",
       "      <td>2</td>\n",
       "      <td>2</td>\n",
       "      <td>4</td>\n",
       "      <td>2</td>\n",
       "      <td>1</td>\n",
       "      <td>1</td>\n",
       "      <td>28</td>\n",
       "      <td>0</td>\n",
       "      <td>Aman</td>\n",
       "      <td>4.1006</td>\n",
       "      <td>98.0117</td>\n",
       "    </tr>\n",
       "    <tr>\n",
       "      <th>9</th>\n",
       "      <td>Sekerak</td>\n",
       "      <td>7</td>\n",
       "      <td>2</td>\n",
       "      <td>1</td>\n",
       "      <td>1</td>\n",
       "      <td>2</td>\n",
       "      <td>1</td>\n",
       "      <td>1</td>\n",
       "      <td>0</td>\n",
       "      <td>15</td>\n",
       "      <td>2</td>\n",
       "      <td>Siaga</td>\n",
       "      <td>4.2843</td>\n",
       "      <td>97.9771</td>\n",
       "    </tr>\n",
       "    <tr>\n",
       "      <th>10</th>\n",
       "      <td>Bandar Pusaka</td>\n",
       "      <td>10</td>\n",
       "      <td>2</td>\n",
       "      <td>1</td>\n",
       "      <td>1</td>\n",
       "      <td>3</td>\n",
       "      <td>1</td>\n",
       "      <td>1</td>\n",
       "      <td>0</td>\n",
       "      <td>19</td>\n",
       "      <td>3</td>\n",
       "      <td>Awas (Bahaya)</td>\n",
       "      <td>4.3958</td>\n",
       "      <td>97.9994</td>\n",
       "    </tr>\n",
       "    <tr>\n",
       "      <th>11</th>\n",
       "      <td>Kuala Simpang</td>\n",
       "      <td>18</td>\n",
       "      <td>4</td>\n",
       "      <td>3</td>\n",
       "      <td>2</td>\n",
       "      <td>5</td>\n",
       "      <td>3</td>\n",
       "      <td>2</td>\n",
       "      <td>1</td>\n",
       "      <td>38</td>\n",
       "      <td>1</td>\n",
       "      <td>Waspada</td>\n",
       "      <td>4.1194</td>\n",
       "      <td>97.9808</td>\n",
       "    </tr>\n",
       "    <tr>\n",
       "      <th>12</th>\n",
       "      <td>Kota Kualasimpang</td>\n",
       "      <td>16</td>\n",
       "      <td>3</td>\n",
       "      <td>2</td>\n",
       "      <td>2</td>\n",
       "      <td>4</td>\n",
       "      <td>2</td>\n",
       "      <td>1</td>\n",
       "      <td>1</td>\n",
       "      <td>31</td>\n",
       "      <td>0</td>\n",
       "      <td>Aman</td>\n",
       "      <td>4.1228</td>\n",
       "      <td>97.9811</td>\n",
       "    </tr>\n",
       "  </tbody>\n",
       "</table>\n",
       "</div>"
      ],
      "text/plain": [
       "            Kecamatan  TBC_Paru  TBC_Ekstraparu  TBC_Milier  TBC_Meningitis  \\\n",
       "0         Karang Baru        15               3           2               1   \n",
       "1        Tamiang Hulu        10               2           1               1   \n",
       "2              Rantau        20               4           3               2   \n",
       "3             Seruway        12               3           2               2   \n",
       "4         Banda Mulia         8               2           1               1   \n",
       "5           Bendahara        14               3           2               2   \n",
       "6        Manyak Payed        11               2           1               1   \n",
       "7           Tenggulun         9               2           1               1   \n",
       "8       Kejuruan Muda        13               3           2               2   \n",
       "9             Sekerak         7               2           1               1   \n",
       "10      Bandar Pusaka        10               2           1               1   \n",
       "11      Kuala Simpang        18               4           3               2   \n",
       "12  Kota Kualasimpang        16               3           2               2   \n",
       "\n",
       "    TBC_Kelenjar  TBC_Usus  TBC_Tulang  TBC_Kulit  Jumlah  Cluster  \\\n",
       "0              4         2           1          0      28        0   \n",
       "1              3         1           1          1      20        3   \n",
       "2              5         3           2          1      40        1   \n",
       "3              4         2           1          1      27        0   \n",
       "4              2         1           1          0      16        2   \n",
       "5              4         2           1          1      29        0   \n",
       "6              3         1           1          0      20        3   \n",
       "7              3         1           1          0      18        3   \n",
       "8              4         2           1          1      28        0   \n",
       "9              2         1           1          0      15        2   \n",
       "10             3         1           1          0      19        3   \n",
       "11             5         3           2          1      38        1   \n",
       "12             4         2           1          1      31        0   \n",
       "\n",
       "     Cluster_Name  Latitude  Longitude  \n",
       "0            Aman    4.1754    98.0093  \n",
       "1   Awas (Bahaya)    4.2534    97.8358  \n",
       "2         Waspada    4.1422    98.0502  \n",
       "3            Aman    3.9942    98.0947  \n",
       "4           Siaga    4.0982    98.0566  \n",
       "5            Aman    4.2112    98.0194  \n",
       "6   Awas (Bahaya)    4.2446    98.1084  \n",
       "7   Awas (Bahaya)    4.4205    97.9111  \n",
       "8            Aman    4.1006    98.0117  \n",
       "9           Siaga    4.2843    97.9771  \n",
       "10  Awas (Bahaya)    4.3958    97.9994  \n",
       "11        Waspada    4.1194    97.9808  \n",
       "12           Aman    4.1228    97.9811  "
      ]
     },
     "execution_count": 10,
     "metadata": {},
     "output_type": "execute_result"
    }
   ],
   "source": [
    "# Add geographical coordinates for each Kecamatan\n",
    "coordinates = {\n",
    "    'Karang Baru': [4.1754, 98.0093],\n",
    "    'Tamiang Hulu': [4.2534, 97.8358],\n",
    "    'Rantau': [4.1422, 98.0502],\n",
    "    'Seruway': [3.9942, 98.0947],\n",
    "    'Banda Mulia': [4.0982, 98.0566],\n",
    "    'Bendahara': [4.2112, 98.0194],\n",
    "    'Manyak Payed': [4.2446, 98.1084],\n",
    "    'Tenggulun': [4.4205, 97.9111],\n",
    "    'Kejuruan Muda': [4.1006, 98.0117],\n",
    "    'Sekerak': [4.2843, 97.9771],\n",
    "    'Bandar Pusaka': [4.3958, 97.9994],\n",
    "    'Kuala Simpang': [4.1194, 97.9808],\n",
    "    'Kota Kualasimpang': [4.1228, 97.9811]\n",
    "}\n",
    "\n",
    "df['Latitude'] = df['Kecamatan'].map(lambda x: coordinates[x][0])\n",
    "df['Longitude'] = df['Kecamatan'].map(lambda x: coordinates[x][1])\n",
    "\n",
    "print(\"Data dengan koordinat geografis:\")\n",
    "df\n"
   ]
  },
  {
   "cell_type": "code",
   "execution_count": 11,
   "id": "7378c867-e9cf-4d2f-a501-d7d26658cae7",
   "metadata": {},
   "outputs": [
    {
     "data": {
      "text/html": [
       "<div style=\"width:100%;\"><div style=\"position:relative;width:100%;height:0;padding-bottom:60%;\"><span style=\"color:#565656\">Make this Notebook Trusted to load map: File -> Trust Notebook</span><iframe srcdoc=\"&lt;!DOCTYPE html&gt;\n",
       "&lt;html&gt;\n",
       "&lt;head&gt;\n",
       "    \n",
       "    &lt;meta http-equiv=&quot;content-type&quot; content=&quot;text/html; charset=UTF-8&quot; /&gt;\n",
       "    \n",
       "        &lt;script&gt;\n",
       "            L_NO_TOUCH = false;\n",
       "            L_DISABLE_3D = false;\n",
       "        &lt;/script&gt;\n",
       "    \n",
       "    &lt;style&gt;html, body {width: 100%;height: 100%;margin: 0;padding: 0;}&lt;/style&gt;\n",
       "    &lt;style&gt;#map {position:absolute;top:0;bottom:0;right:0;left:0;}&lt;/style&gt;\n",
       "    &lt;script src=&quot;https://cdn.jsdelivr.net/npm/leaflet@1.9.3/dist/leaflet.js&quot;&gt;&lt;/script&gt;\n",
       "    &lt;script src=&quot;https://code.jquery.com/jquery-3.7.1.min.js&quot;&gt;&lt;/script&gt;\n",
       "    &lt;script src=&quot;https://cdn.jsdelivr.net/npm/bootstrap@5.2.2/dist/js/bootstrap.bundle.min.js&quot;&gt;&lt;/script&gt;\n",
       "    &lt;script src=&quot;https://cdnjs.cloudflare.com/ajax/libs/Leaflet.awesome-markers/2.0.2/leaflet.awesome-markers.js&quot;&gt;&lt;/script&gt;\n",
       "    &lt;link rel=&quot;stylesheet&quot; href=&quot;https://cdn.jsdelivr.net/npm/leaflet@1.9.3/dist/leaflet.css&quot;/&gt;\n",
       "    &lt;link rel=&quot;stylesheet&quot; href=&quot;https://cdn.jsdelivr.net/npm/bootstrap@5.2.2/dist/css/bootstrap.min.css&quot;/&gt;\n",
       "    &lt;link rel=&quot;stylesheet&quot; href=&quot;https://netdna.bootstrapcdn.com/bootstrap/3.0.0/css/bootstrap.min.css&quot;/&gt;\n",
       "    &lt;link rel=&quot;stylesheet&quot; href=&quot;https://cdn.jsdelivr.net/npm/@fortawesome/fontawesome-free@6.2.0/css/all.min.css&quot;/&gt;\n",
       "    &lt;link rel=&quot;stylesheet&quot; href=&quot;https://cdnjs.cloudflare.com/ajax/libs/Leaflet.awesome-markers/2.0.2/leaflet.awesome-markers.css&quot;/&gt;\n",
       "    &lt;link rel=&quot;stylesheet&quot; href=&quot;https://cdn.jsdelivr.net/gh/python-visualization/folium/folium/templates/leaflet.awesome.rotate.min.css&quot;/&gt;\n",
       "    \n",
       "            &lt;meta name=&quot;viewport&quot; content=&quot;width=device-width,\n",
       "                initial-scale=1.0, maximum-scale=1.0, user-scalable=no&quot; /&gt;\n",
       "            &lt;style&gt;\n",
       "                #map_856af74dad2128184c3d06c89a8db6e8 {\n",
       "                    position: relative;\n",
       "                    width: 100.0%;\n",
       "                    height: 100.0%;\n",
       "                    left: 0.0%;\n",
       "                    top: 0.0%;\n",
       "                }\n",
       "                .leaflet-container { font-size: 1rem; }\n",
       "            &lt;/style&gt;\n",
       "        \n",
       "&lt;/head&gt;\n",
       "&lt;body&gt;\n",
       "    \n",
       "    \n",
       "            &lt;div class=&quot;folium-map&quot; id=&quot;map_856af74dad2128184c3d06c89a8db6e8&quot; &gt;&lt;/div&gt;\n",
       "        \n",
       "&lt;/body&gt;\n",
       "&lt;script&gt;\n",
       "    \n",
       "    \n",
       "            var map_856af74dad2128184c3d06c89a8db6e8 = L.map(\n",
       "                &quot;map_856af74dad2128184c3d06c89a8db6e8&quot;,\n",
       "                {\n",
       "                    center: [4.1488, 98.0103],\n",
       "                    crs: L.CRS.EPSG3857,\n",
       "                    zoom: 10,\n",
       "                    zoomControl: true,\n",
       "                    preferCanvas: false,\n",
       "                }\n",
       "            );\n",
       "\n",
       "            \n",
       "\n",
       "        \n",
       "    \n",
       "            var tile_layer_605a341b29520ab4fda742689e5dea57 = L.tileLayer(\n",
       "                &quot;https://tile.openstreetmap.org/{z}/{x}/{y}.png&quot;,\n",
       "                {&quot;attribution&quot;: &quot;\\u0026copy; \\u003ca href=\\&quot;https://www.openstreetmap.org/copyright\\&quot;\\u003eOpenStreetMap\\u003c/a\\u003e contributors&quot;, &quot;detectRetina&quot;: false, &quot;maxNativeZoom&quot;: 19, &quot;maxZoom&quot;: 19, &quot;minZoom&quot;: 0, &quot;noWrap&quot;: false, &quot;opacity&quot;: 1, &quot;subdomains&quot;: &quot;abc&quot;, &quot;tms&quot;: false}\n",
       "            );\n",
       "        \n",
       "    \n",
       "            tile_layer_605a341b29520ab4fda742689e5dea57.addTo(map_856af74dad2128184c3d06c89a8db6e8);\n",
       "        \n",
       "    \n",
       "            var circle_marker_011b46014067ef653fc018084ef679d3 = L.circleMarker(\n",
       "                [4.1754, 98.0093],\n",
       "                {&quot;bubblingMouseEvents&quot;: true, &quot;color&quot;: &quot;green&quot;, &quot;dashArray&quot;: null, &quot;dashOffset&quot;: null, &quot;fill&quot;: true, &quot;fillColor&quot;: &quot;green&quot;, &quot;fillOpacity&quot;: 0.2, &quot;fillRule&quot;: &quot;evenodd&quot;, &quot;lineCap&quot;: &quot;round&quot;, &quot;lineJoin&quot;: &quot;round&quot;, &quot;opacity&quot;: 1.0, &quot;radius&quot;: 10, &quot;stroke&quot;: true, &quot;weight&quot;: 3}\n",
       "            ).addTo(map_856af74dad2128184c3d06c89a8db6e8);\n",
       "        \n",
       "    \n",
       "        var popup_30a114402e34f388fb77d9ab34a331a9 = L.popup({&quot;maxWidth&quot;: &quot;100%&quot;});\n",
       "\n",
       "        \n",
       "            \n",
       "                var html_775bb1a363f747500d44c2b280433353 = $(`&lt;div id=&quot;html_775bb1a363f747500d44c2b280433353&quot; style=&quot;width: 100.0%; height: 100.0%;&quot;&gt;Kecamatan: Karang Baru&lt;br&gt;Status: Aman&lt;/div&gt;`)[0];\n",
       "                popup_30a114402e34f388fb77d9ab34a331a9.setContent(html_775bb1a363f747500d44c2b280433353);\n",
       "            \n",
       "        \n",
       "\n",
       "        circle_marker_011b46014067ef653fc018084ef679d3.bindPopup(popup_30a114402e34f388fb77d9ab34a331a9)\n",
       "        ;\n",
       "\n",
       "        \n",
       "    \n",
       "    \n",
       "            var circle_marker_cb95bd22a2f845c1bdb834f9ea547b40 = L.circleMarker(\n",
       "                [4.2534, 97.8358],\n",
       "                {&quot;bubblingMouseEvents&quot;: true, &quot;color&quot;: &quot;red&quot;, &quot;dashArray&quot;: null, &quot;dashOffset&quot;: null, &quot;fill&quot;: true, &quot;fillColor&quot;: &quot;red&quot;, &quot;fillOpacity&quot;: 0.2, &quot;fillRule&quot;: &quot;evenodd&quot;, &quot;lineCap&quot;: &quot;round&quot;, &quot;lineJoin&quot;: &quot;round&quot;, &quot;opacity&quot;: 1.0, &quot;radius&quot;: 10, &quot;stroke&quot;: true, &quot;weight&quot;: 3}\n",
       "            ).addTo(map_856af74dad2128184c3d06c89a8db6e8);\n",
       "        \n",
       "    \n",
       "        var popup_d656d12148ec754a223489fe710666d8 = L.popup({&quot;maxWidth&quot;: &quot;100%&quot;});\n",
       "\n",
       "        \n",
       "            \n",
       "                var html_52e39d793e5b17506a3949419f069516 = $(`&lt;div id=&quot;html_52e39d793e5b17506a3949419f069516&quot; style=&quot;width: 100.0%; height: 100.0%;&quot;&gt;Kecamatan: Tamiang Hulu&lt;br&gt;Status: Awas (Bahaya)&lt;/div&gt;`)[0];\n",
       "                popup_d656d12148ec754a223489fe710666d8.setContent(html_52e39d793e5b17506a3949419f069516);\n",
       "            \n",
       "        \n",
       "\n",
       "        circle_marker_cb95bd22a2f845c1bdb834f9ea547b40.bindPopup(popup_d656d12148ec754a223489fe710666d8)\n",
       "        ;\n",
       "\n",
       "        \n",
       "    \n",
       "    \n",
       "            var circle_marker_69946b719eb62c5f0483d3d9a0fd7947 = L.circleMarker(\n",
       "                [4.1422, 98.0502],\n",
       "                {&quot;bubblingMouseEvents&quot;: true, &quot;color&quot;: &quot;yellow&quot;, &quot;dashArray&quot;: null, &quot;dashOffset&quot;: null, &quot;fill&quot;: true, &quot;fillColor&quot;: &quot;yellow&quot;, &quot;fillOpacity&quot;: 0.2, &quot;fillRule&quot;: &quot;evenodd&quot;, &quot;lineCap&quot;: &quot;round&quot;, &quot;lineJoin&quot;: &quot;round&quot;, &quot;opacity&quot;: 1.0, &quot;radius&quot;: 10, &quot;stroke&quot;: true, &quot;weight&quot;: 3}\n",
       "            ).addTo(map_856af74dad2128184c3d06c89a8db6e8);\n",
       "        \n",
       "    \n",
       "        var popup_a5ae8b9ed6cc8f44b04f9a4a1e9d3ed8 = L.popup({&quot;maxWidth&quot;: &quot;100%&quot;});\n",
       "\n",
       "        \n",
       "            \n",
       "                var html_29b3579f95fb535ed677922b30541bf5 = $(`&lt;div id=&quot;html_29b3579f95fb535ed677922b30541bf5&quot; style=&quot;width: 100.0%; height: 100.0%;&quot;&gt;Kecamatan: Rantau&lt;br&gt;Status: Waspada&lt;/div&gt;`)[0];\n",
       "                popup_a5ae8b9ed6cc8f44b04f9a4a1e9d3ed8.setContent(html_29b3579f95fb535ed677922b30541bf5);\n",
       "            \n",
       "        \n",
       "\n",
       "        circle_marker_69946b719eb62c5f0483d3d9a0fd7947.bindPopup(popup_a5ae8b9ed6cc8f44b04f9a4a1e9d3ed8)\n",
       "        ;\n",
       "\n",
       "        \n",
       "    \n",
       "    \n",
       "            var circle_marker_a7daed835068c9b9982b0a0ee58f4e6a = L.circleMarker(\n",
       "                [3.9942, 98.0947],\n",
       "                {&quot;bubblingMouseEvents&quot;: true, &quot;color&quot;: &quot;green&quot;, &quot;dashArray&quot;: null, &quot;dashOffset&quot;: null, &quot;fill&quot;: true, &quot;fillColor&quot;: &quot;green&quot;, &quot;fillOpacity&quot;: 0.2, &quot;fillRule&quot;: &quot;evenodd&quot;, &quot;lineCap&quot;: &quot;round&quot;, &quot;lineJoin&quot;: &quot;round&quot;, &quot;opacity&quot;: 1.0, &quot;radius&quot;: 10, &quot;stroke&quot;: true, &quot;weight&quot;: 3}\n",
       "            ).addTo(map_856af74dad2128184c3d06c89a8db6e8);\n",
       "        \n",
       "    \n",
       "        var popup_2be68b1edddec482fa14289e2f48fa8d = L.popup({&quot;maxWidth&quot;: &quot;100%&quot;});\n",
       "\n",
       "        \n",
       "            \n",
       "                var html_bfc7188af89ef271d3ee9ae251e49e86 = $(`&lt;div id=&quot;html_bfc7188af89ef271d3ee9ae251e49e86&quot; style=&quot;width: 100.0%; height: 100.0%;&quot;&gt;Kecamatan: Seruway&lt;br&gt;Status: Aman&lt;/div&gt;`)[0];\n",
       "                popup_2be68b1edddec482fa14289e2f48fa8d.setContent(html_bfc7188af89ef271d3ee9ae251e49e86);\n",
       "            \n",
       "        \n",
       "\n",
       "        circle_marker_a7daed835068c9b9982b0a0ee58f4e6a.bindPopup(popup_2be68b1edddec482fa14289e2f48fa8d)\n",
       "        ;\n",
       "\n",
       "        \n",
       "    \n",
       "    \n",
       "            var circle_marker_86c7cab96c191b1fb56cca2d47a66c78 = L.circleMarker(\n",
       "                [4.0982, 98.0566],\n",
       "                {&quot;bubblingMouseEvents&quot;: true, &quot;color&quot;: &quot;orange&quot;, &quot;dashArray&quot;: null, &quot;dashOffset&quot;: null, &quot;fill&quot;: true, &quot;fillColor&quot;: &quot;orange&quot;, &quot;fillOpacity&quot;: 0.2, &quot;fillRule&quot;: &quot;evenodd&quot;, &quot;lineCap&quot;: &quot;round&quot;, &quot;lineJoin&quot;: &quot;round&quot;, &quot;opacity&quot;: 1.0, &quot;radius&quot;: 10, &quot;stroke&quot;: true, &quot;weight&quot;: 3}\n",
       "            ).addTo(map_856af74dad2128184c3d06c89a8db6e8);\n",
       "        \n",
       "    \n",
       "        var popup_c4d337c021110a232261ae1a860ac87d = L.popup({&quot;maxWidth&quot;: &quot;100%&quot;});\n",
       "\n",
       "        \n",
       "            \n",
       "                var html_b747c6f60fca72b9a5e40a486551c1a8 = $(`&lt;div id=&quot;html_b747c6f60fca72b9a5e40a486551c1a8&quot; style=&quot;width: 100.0%; height: 100.0%;&quot;&gt;Kecamatan: Banda Mulia&lt;br&gt;Status: Siaga&lt;/div&gt;`)[0];\n",
       "                popup_c4d337c021110a232261ae1a860ac87d.setContent(html_b747c6f60fca72b9a5e40a486551c1a8);\n",
       "            \n",
       "        \n",
       "\n",
       "        circle_marker_86c7cab96c191b1fb56cca2d47a66c78.bindPopup(popup_c4d337c021110a232261ae1a860ac87d)\n",
       "        ;\n",
       "\n",
       "        \n",
       "    \n",
       "    \n",
       "            var circle_marker_63abd0b6a0bcd7f4b913001171e11b2b = L.circleMarker(\n",
       "                [4.2112, 98.0194],\n",
       "                {&quot;bubblingMouseEvents&quot;: true, &quot;color&quot;: &quot;green&quot;, &quot;dashArray&quot;: null, &quot;dashOffset&quot;: null, &quot;fill&quot;: true, &quot;fillColor&quot;: &quot;green&quot;, &quot;fillOpacity&quot;: 0.2, &quot;fillRule&quot;: &quot;evenodd&quot;, &quot;lineCap&quot;: &quot;round&quot;, &quot;lineJoin&quot;: &quot;round&quot;, &quot;opacity&quot;: 1.0, &quot;radius&quot;: 10, &quot;stroke&quot;: true, &quot;weight&quot;: 3}\n",
       "            ).addTo(map_856af74dad2128184c3d06c89a8db6e8);\n",
       "        \n",
       "    \n",
       "        var popup_fe6c666a5f369f84e974d9436a245858 = L.popup({&quot;maxWidth&quot;: &quot;100%&quot;});\n",
       "\n",
       "        \n",
       "            \n",
       "                var html_0ea904f6526749ce28b2620ad7d3c24c = $(`&lt;div id=&quot;html_0ea904f6526749ce28b2620ad7d3c24c&quot; style=&quot;width: 100.0%; height: 100.0%;&quot;&gt;Kecamatan: Bendahara&lt;br&gt;Status: Aman&lt;/div&gt;`)[0];\n",
       "                popup_fe6c666a5f369f84e974d9436a245858.setContent(html_0ea904f6526749ce28b2620ad7d3c24c);\n",
       "            \n",
       "        \n",
       "\n",
       "        circle_marker_63abd0b6a0bcd7f4b913001171e11b2b.bindPopup(popup_fe6c666a5f369f84e974d9436a245858)\n",
       "        ;\n",
       "\n",
       "        \n",
       "    \n",
       "    \n",
       "            var circle_marker_894665e5bac416434f9e1ca7aa30d551 = L.circleMarker(\n",
       "                [4.2446, 98.1084],\n",
       "                {&quot;bubblingMouseEvents&quot;: true, &quot;color&quot;: &quot;red&quot;, &quot;dashArray&quot;: null, &quot;dashOffset&quot;: null, &quot;fill&quot;: true, &quot;fillColor&quot;: &quot;red&quot;, &quot;fillOpacity&quot;: 0.2, &quot;fillRule&quot;: &quot;evenodd&quot;, &quot;lineCap&quot;: &quot;round&quot;, &quot;lineJoin&quot;: &quot;round&quot;, &quot;opacity&quot;: 1.0, &quot;radius&quot;: 10, &quot;stroke&quot;: true, &quot;weight&quot;: 3}\n",
       "            ).addTo(map_856af74dad2128184c3d06c89a8db6e8);\n",
       "        \n",
       "    \n",
       "        var popup_46ab88cc515b95c075ed8101246b98ba = L.popup({&quot;maxWidth&quot;: &quot;100%&quot;});\n",
       "\n",
       "        \n",
       "            \n",
       "                var html_e2911545a7411ff6159cd063d89d75f9 = $(`&lt;div id=&quot;html_e2911545a7411ff6159cd063d89d75f9&quot; style=&quot;width: 100.0%; height: 100.0%;&quot;&gt;Kecamatan: Manyak Payed&lt;br&gt;Status: Awas (Bahaya)&lt;/div&gt;`)[0];\n",
       "                popup_46ab88cc515b95c075ed8101246b98ba.setContent(html_e2911545a7411ff6159cd063d89d75f9);\n",
       "            \n",
       "        \n",
       "\n",
       "        circle_marker_894665e5bac416434f9e1ca7aa30d551.bindPopup(popup_46ab88cc515b95c075ed8101246b98ba)\n",
       "        ;\n",
       "\n",
       "        \n",
       "    \n",
       "    \n",
       "            var circle_marker_681474abb260ecdf4a1ec8780d2b877c = L.circleMarker(\n",
       "                [4.4205, 97.9111],\n",
       "                {&quot;bubblingMouseEvents&quot;: true, &quot;color&quot;: &quot;red&quot;, &quot;dashArray&quot;: null, &quot;dashOffset&quot;: null, &quot;fill&quot;: true, &quot;fillColor&quot;: &quot;red&quot;, &quot;fillOpacity&quot;: 0.2, &quot;fillRule&quot;: &quot;evenodd&quot;, &quot;lineCap&quot;: &quot;round&quot;, &quot;lineJoin&quot;: &quot;round&quot;, &quot;opacity&quot;: 1.0, &quot;radius&quot;: 10, &quot;stroke&quot;: true, &quot;weight&quot;: 3}\n",
       "            ).addTo(map_856af74dad2128184c3d06c89a8db6e8);\n",
       "        \n",
       "    \n",
       "        var popup_2f6223e85c840a1e809266aa3702d1e5 = L.popup({&quot;maxWidth&quot;: &quot;100%&quot;});\n",
       "\n",
       "        \n",
       "            \n",
       "                var html_32a8e3432f8818e54c66cf312acf6375 = $(`&lt;div id=&quot;html_32a8e3432f8818e54c66cf312acf6375&quot; style=&quot;width: 100.0%; height: 100.0%;&quot;&gt;Kecamatan: Tenggulun&lt;br&gt;Status: Awas (Bahaya)&lt;/div&gt;`)[0];\n",
       "                popup_2f6223e85c840a1e809266aa3702d1e5.setContent(html_32a8e3432f8818e54c66cf312acf6375);\n",
       "            \n",
       "        \n",
       "\n",
       "        circle_marker_681474abb260ecdf4a1ec8780d2b877c.bindPopup(popup_2f6223e85c840a1e809266aa3702d1e5)\n",
       "        ;\n",
       "\n",
       "        \n",
       "    \n",
       "    \n",
       "            var circle_marker_6e7fbe73fd0252017389e43f95ec1895 = L.circleMarker(\n",
       "                [4.1006, 98.0117],\n",
       "                {&quot;bubblingMouseEvents&quot;: true, &quot;color&quot;: &quot;green&quot;, &quot;dashArray&quot;: null, &quot;dashOffset&quot;: null, &quot;fill&quot;: true, &quot;fillColor&quot;: &quot;green&quot;, &quot;fillOpacity&quot;: 0.2, &quot;fillRule&quot;: &quot;evenodd&quot;, &quot;lineCap&quot;: &quot;round&quot;, &quot;lineJoin&quot;: &quot;round&quot;, &quot;opacity&quot;: 1.0, &quot;radius&quot;: 10, &quot;stroke&quot;: true, &quot;weight&quot;: 3}\n",
       "            ).addTo(map_856af74dad2128184c3d06c89a8db6e8);\n",
       "        \n",
       "    \n",
       "        var popup_c730636782fe426bc7f8dfe0f838c63b = L.popup({&quot;maxWidth&quot;: &quot;100%&quot;});\n",
       "\n",
       "        \n",
       "            \n",
       "                var html_8adeeb23bac59199d0e5ea796721f373 = $(`&lt;div id=&quot;html_8adeeb23bac59199d0e5ea796721f373&quot; style=&quot;width: 100.0%; height: 100.0%;&quot;&gt;Kecamatan: Kejuruan Muda&lt;br&gt;Status: Aman&lt;/div&gt;`)[0];\n",
       "                popup_c730636782fe426bc7f8dfe0f838c63b.setContent(html_8adeeb23bac59199d0e5ea796721f373);\n",
       "            \n",
       "        \n",
       "\n",
       "        circle_marker_6e7fbe73fd0252017389e43f95ec1895.bindPopup(popup_c730636782fe426bc7f8dfe0f838c63b)\n",
       "        ;\n",
       "\n",
       "        \n",
       "    \n",
       "    \n",
       "            var circle_marker_91a9e0e4e121147977748b85f1463403 = L.circleMarker(\n",
       "                [4.2843, 97.9771],\n",
       "                {&quot;bubblingMouseEvents&quot;: true, &quot;color&quot;: &quot;orange&quot;, &quot;dashArray&quot;: null, &quot;dashOffset&quot;: null, &quot;fill&quot;: true, &quot;fillColor&quot;: &quot;orange&quot;, &quot;fillOpacity&quot;: 0.2, &quot;fillRule&quot;: &quot;evenodd&quot;, &quot;lineCap&quot;: &quot;round&quot;, &quot;lineJoin&quot;: &quot;round&quot;, &quot;opacity&quot;: 1.0, &quot;radius&quot;: 10, &quot;stroke&quot;: true, &quot;weight&quot;: 3}\n",
       "            ).addTo(map_856af74dad2128184c3d06c89a8db6e8);\n",
       "        \n",
       "    \n",
       "        var popup_237ada24f255981c0428d3619bfd6961 = L.popup({&quot;maxWidth&quot;: &quot;100%&quot;});\n",
       "\n",
       "        \n",
       "            \n",
       "                var html_02ed4935aa43fea4a062607679f2c1fb = $(`&lt;div id=&quot;html_02ed4935aa43fea4a062607679f2c1fb&quot; style=&quot;width: 100.0%; height: 100.0%;&quot;&gt;Kecamatan: Sekerak&lt;br&gt;Status: Siaga&lt;/div&gt;`)[0];\n",
       "                popup_237ada24f255981c0428d3619bfd6961.setContent(html_02ed4935aa43fea4a062607679f2c1fb);\n",
       "            \n",
       "        \n",
       "\n",
       "        circle_marker_91a9e0e4e121147977748b85f1463403.bindPopup(popup_237ada24f255981c0428d3619bfd6961)\n",
       "        ;\n",
       "\n",
       "        \n",
       "    \n",
       "    \n",
       "            var circle_marker_017a8d4dfd3f89e4eade4514df0df7c1 = L.circleMarker(\n",
       "                [4.3958, 97.9994],\n",
       "                {&quot;bubblingMouseEvents&quot;: true, &quot;color&quot;: &quot;red&quot;, &quot;dashArray&quot;: null, &quot;dashOffset&quot;: null, &quot;fill&quot;: true, &quot;fillColor&quot;: &quot;red&quot;, &quot;fillOpacity&quot;: 0.2, &quot;fillRule&quot;: &quot;evenodd&quot;, &quot;lineCap&quot;: &quot;round&quot;, &quot;lineJoin&quot;: &quot;round&quot;, &quot;opacity&quot;: 1.0, &quot;radius&quot;: 10, &quot;stroke&quot;: true, &quot;weight&quot;: 3}\n",
       "            ).addTo(map_856af74dad2128184c3d06c89a8db6e8);\n",
       "        \n",
       "    \n",
       "        var popup_6bf872c438ceb9f23a7ee4dc88db6bca = L.popup({&quot;maxWidth&quot;: &quot;100%&quot;});\n",
       "\n",
       "        \n",
       "            \n",
       "                var html_bfe48713296cd2af77570a393a81ee92 = $(`&lt;div id=&quot;html_bfe48713296cd2af77570a393a81ee92&quot; style=&quot;width: 100.0%; height: 100.0%;&quot;&gt;Kecamatan: Bandar Pusaka&lt;br&gt;Status: Awas (Bahaya)&lt;/div&gt;`)[0];\n",
       "                popup_6bf872c438ceb9f23a7ee4dc88db6bca.setContent(html_bfe48713296cd2af77570a393a81ee92);\n",
       "            \n",
       "        \n",
       "\n",
       "        circle_marker_017a8d4dfd3f89e4eade4514df0df7c1.bindPopup(popup_6bf872c438ceb9f23a7ee4dc88db6bca)\n",
       "        ;\n",
       "\n",
       "        \n",
       "    \n",
       "    \n",
       "            var circle_marker_09e96ffee8f129cf346fbeb1a6d6c0b2 = L.circleMarker(\n",
       "                [4.1194, 97.9808],\n",
       "                {&quot;bubblingMouseEvents&quot;: true, &quot;color&quot;: &quot;yellow&quot;, &quot;dashArray&quot;: null, &quot;dashOffset&quot;: null, &quot;fill&quot;: true, &quot;fillColor&quot;: &quot;yellow&quot;, &quot;fillOpacity&quot;: 0.2, &quot;fillRule&quot;: &quot;evenodd&quot;, &quot;lineCap&quot;: &quot;round&quot;, &quot;lineJoin&quot;: &quot;round&quot;, &quot;opacity&quot;: 1.0, &quot;radius&quot;: 10, &quot;stroke&quot;: true, &quot;weight&quot;: 3}\n",
       "            ).addTo(map_856af74dad2128184c3d06c89a8db6e8);\n",
       "        \n",
       "    \n",
       "        var popup_4080b827de9eb086c4f2cec0074b8739 = L.popup({&quot;maxWidth&quot;: &quot;100%&quot;});\n",
       "\n",
       "        \n",
       "            \n",
       "                var html_fb38f0097a08ebfde6f1e42ee3ec806f = $(`&lt;div id=&quot;html_fb38f0097a08ebfde6f1e42ee3ec806f&quot; style=&quot;width: 100.0%; height: 100.0%;&quot;&gt;Kecamatan: Kuala Simpang&lt;br&gt;Status: Waspada&lt;/div&gt;`)[0];\n",
       "                popup_4080b827de9eb086c4f2cec0074b8739.setContent(html_fb38f0097a08ebfde6f1e42ee3ec806f);\n",
       "            \n",
       "        \n",
       "\n",
       "        circle_marker_09e96ffee8f129cf346fbeb1a6d6c0b2.bindPopup(popup_4080b827de9eb086c4f2cec0074b8739)\n",
       "        ;\n",
       "\n",
       "        \n",
       "    \n",
       "    \n",
       "            var circle_marker_db0a36f230bb608945be5b9a175cad8d = L.circleMarker(\n",
       "                [4.1228, 97.9811],\n",
       "                {&quot;bubblingMouseEvents&quot;: true, &quot;color&quot;: &quot;green&quot;, &quot;dashArray&quot;: null, &quot;dashOffset&quot;: null, &quot;fill&quot;: true, &quot;fillColor&quot;: &quot;green&quot;, &quot;fillOpacity&quot;: 0.2, &quot;fillRule&quot;: &quot;evenodd&quot;, &quot;lineCap&quot;: &quot;round&quot;, &quot;lineJoin&quot;: &quot;round&quot;, &quot;opacity&quot;: 1.0, &quot;radius&quot;: 10, &quot;stroke&quot;: true, &quot;weight&quot;: 3}\n",
       "            ).addTo(map_856af74dad2128184c3d06c89a8db6e8);\n",
       "        \n",
       "    \n",
       "        var popup_6d8fd739835fbf1ef3fc47ae9a575e9d = L.popup({&quot;maxWidth&quot;: &quot;100%&quot;});\n",
       "\n",
       "        \n",
       "            \n",
       "                var html_9a1f68897936072a05b2866536af5a76 = $(`&lt;div id=&quot;html_9a1f68897936072a05b2866536af5a76&quot; style=&quot;width: 100.0%; height: 100.0%;&quot;&gt;Kecamatan: Kota Kualasimpang&lt;br&gt;Status: Aman&lt;/div&gt;`)[0];\n",
       "                popup_6d8fd739835fbf1ef3fc47ae9a575e9d.setContent(html_9a1f68897936072a05b2866536af5a76);\n",
       "            \n",
       "        \n",
       "\n",
       "        circle_marker_db0a36f230bb608945be5b9a175cad8d.bindPopup(popup_6d8fd739835fbf1ef3fc47ae9a575e9d)\n",
       "        ;\n",
       "\n",
       "        \n",
       "    \n",
       "    \n",
       "            tile_layer_605a341b29520ab4fda742689e5dea57.addTo(map_856af74dad2128184c3d06c89a8db6e8);\n",
       "        \n",
       "&lt;/script&gt;\n",
       "&lt;/html&gt;\" style=\"position:absolute;width:100%;height:100%;left:0;top:0;border:none !important;\" allowfullscreen webkitallowfullscreen mozallowfullscreen></iframe></div></div>"
      ],
      "text/plain": [
       "<folium.folium.Map at 0x1ac08f39dd0>"
      ]
     },
     "execution_count": 11,
     "metadata": {},
     "output_type": "execute_result"
    }
   ],
   "source": [
    "import folium\n",
    "\n",
    "# Create a map centered around Aceh Tamiang\n",
    "map_center = [4.1488, 98.0103]\n",
    "m = folium.Map(location=map_center, zoom_start=10)\n",
    "\n",
    "# Define colors for clusters\n",
    "cluster_colors = {\n",
    "    'Aman': 'green',\n",
    "    'Waspada': 'yellow',\n",
    "    'Siaga': 'orange',\n",
    "    'Awas (Bahaya)': 'red'\n",
    "}\n",
    "\n",
    "# Add points to the map\n",
    "for i, row in df.iterrows():\n",
    "    folium.CircleMarker(\n",
    "        location=[row['Latitude'], row['Longitude']],\n",
    "        radius=10,\n",
    "        popup=f\"Kecamatan: {row['Kecamatan']}<br>Status: {row['Cluster_Name']}\",\n",
    "        color=cluster_colors[row['Cluster_Name']],\n",
    "        fill=True,\n",
    "        fill_color=cluster_colors[row['Cluster_Name']]\n",
    "    ).add_to(m)\n",
    "\n",
    "# Display the map\n",
    "m.save('map.html')\n",
    "m\n"
   ]
  },
  {
   "cell_type": "code",
   "execution_count": null,
   "id": "e0b09693-e304-4e84-a28f-77fddffc7ea8",
   "metadata": {},
   "outputs": [],
   "source": []
  }
 ],
 "metadata": {
  "kernelspec": {
   "display_name": "Python 3 (ipykernel)",
   "language": "python",
   "name": "python3"
  },
  "language_info": {
   "codemirror_mode": {
    "name": "ipython",
    "version": 3
   },
   "file_extension": ".py",
   "mimetype": "text/x-python",
   "name": "python",
   "nbconvert_exporter": "python",
   "pygments_lexer": "ipython3",
   "version": "3.11.7"
  }
 },
 "nbformat": 4,
 "nbformat_minor": 5
}
